{
 "cells": [
  {
   "cell_type": "markdown",
   "id": "8ed2643b-bead-47f5-86c0-06638ed32cb6",
   "metadata": {},
   "source": [
    "# CSCI 4022 Final Project Data Cleaning\n",
    "\n"
   ]
  },
  {
   "cell_type": "code",
   "execution_count": 1,
   "id": "b7f366a0-8771-4d9d-9467-35074d94812e",
   "metadata": {},
   "outputs": [],
   "source": [
    "# imports\n",
    "import pandas as pd\n",
    "import numpy as np\n",
    "from sklearn.preprocessing import StandardScaler\n",
    "from sklearn.decomposition import PCA\n",
    "from sklearn.cluster import KMeans\n",
    "import seaborn as sns\n",
    "import matplotlib.pyplot as plt\n",
    "import matplotlib.colors as mcolors\n",
    "from mpl_toolkits.mplot3d import Axes3D\n",
    "import scipy.stats as stats\n",
    "from sklearn.mixture import GaussianMixture"
   ]
  },
  {
   "cell_type": "markdown",
   "id": "bd705764-41eb-4a75-a08e-e568726b21fb",
   "metadata": {},
   "source": [
    "## Data Cleaning\n",
    "\n",
    "The goal of the data cleaning is to get rid of columns with limited to no data along with columns that have unnecessary or irrelevant data.\n",
    "\n",
    "### CSV Files\n",
    "- teams.csv: team data\n",
    "- team_box_scores.csv: team level box score data from the 2013-2014 season up until the 2017-2018 season\n",
    "- player_box_scores.csv: player level box score data from the 2013-2014 season up until the 2017-2018 season"
   ]
  },
  {
   "cell_type": "markdown",
   "id": "46a4f2a3-6422-429a-8f44-706ff71938eb",
   "metadata": {},
   "source": [
    "### teams.csv\n",
    "\n",
    "The teams.csv data is going to be used to create a dataframe that can be used to easily identify teams. The cleaning process will get rid of irrelevant data."
   ]
  },
  {
   "cell_type": "code",
   "execution_count": 2,
   "id": "5329be4e-988c-4afd-a613-6ae5fa78546e",
   "metadata": {},
   "outputs": [
    {
     "data": {
      "text/html": [
       "<div>\n",
       "<style scoped>\n",
       "    .dataframe tbody tr th:only-of-type {\n",
       "        vertical-align: middle;\n",
       "    }\n",
       "\n",
       "    .dataframe tbody tr th {\n",
       "        vertical-align: top;\n",
       "    }\n",
       "\n",
       "    .dataframe thead th {\n",
       "        text-align: right;\n",
       "    }\n",
       "</style>\n",
       "<table border=\"1\" class=\"dataframe\">\n",
       "  <thead>\n",
       "    <tr style=\"text-align: right;\">\n",
       "      <th></th>\n",
       "      <th>market</th>\n",
       "      <th>alias</th>\n",
       "      <th>name</th>\n",
       "      <th>id</th>\n",
       "      <th>code_ncaa</th>\n",
       "      <th>kaggle_team_id</th>\n",
       "      <th>school_ncaa</th>\n",
       "      <th>turner_name</th>\n",
       "      <th>league_name</th>\n",
       "      <th>league_alias</th>\n",
       "      <th>...</th>\n",
       "      <th>venue_city</th>\n",
       "      <th>venue_state</th>\n",
       "      <th>venue_address</th>\n",
       "      <th>venue_zip</th>\n",
       "      <th>venue_country</th>\n",
       "      <th>venue_name</th>\n",
       "      <th>venue_capacity</th>\n",
       "      <th>logo_large</th>\n",
       "      <th>logo_medium</th>\n",
       "      <th>logo_small</th>\n",
       "    </tr>\n",
       "  </thead>\n",
       "  <tbody>\n",
       "    <tr>\n",
       "      <th>0</th>\n",
       "      <td>Princeton</td>\n",
       "      <td>PRIN</td>\n",
       "      <td>Tigers</td>\n",
       "      <td>fe406882-9f22-495e-9df6-ef357a6803c6</td>\n",
       "      <td>554</td>\n",
       "      <td>1343</td>\n",
       "      <td>Princeton</td>\n",
       "      <td>Princeton University</td>\n",
       "      <td>NCAA MEN</td>\n",
       "      <td>NCAAM</td>\n",
       "      <td>...</td>\n",
       "      <td>Princeton</td>\n",
       "      <td>NJ</td>\n",
       "      <td>Princeton University</td>\n",
       "      <td>8542.0</td>\n",
       "      <td>USA</td>\n",
       "      <td>Jadwin Gymnasium</td>\n",
       "      <td>6854</td>\n",
       "      <td>https://www.ncaa.com/sites/default/files/image...</td>\n",
       "      <td>https://www.ncaa.com/sites/default/files/image...</td>\n",
       "      <td>https://www.ncaa.com/sites/default/files/image...</td>\n",
       "    </tr>\n",
       "    <tr>\n",
       "      <th>1</th>\n",
       "      <td>Yale</td>\n",
       "      <td>YALE</td>\n",
       "      <td>Bulldogs</td>\n",
       "      <td>ca478771-aa3d-4231-81e0-b70f519134fb</td>\n",
       "      <td>813</td>\n",
       "      <td>1463</td>\n",
       "      <td>Yale</td>\n",
       "      <td>Yale University</td>\n",
       "      <td>NCAA MEN</td>\n",
       "      <td>NCAAM</td>\n",
       "      <td>...</td>\n",
       "      <td>New Haven</td>\n",
       "      <td>CT</td>\n",
       "      <td>70 Tower Pkwy</td>\n",
       "      <td>6511.0</td>\n",
       "      <td>USA</td>\n",
       "      <td>John J. Lee Amphitheater</td>\n",
       "      <td>2532</td>\n",
       "      <td>https://www.ncaa.com/sites/default/files/image...</td>\n",
       "      <td>https://www.ncaa.com/sites/default/files/image...</td>\n",
       "      <td>https://www.ncaa.com/sites/default/files/image...</td>\n",
       "    </tr>\n",
       "    <tr>\n",
       "      <th>2</th>\n",
       "      <td>Harvard</td>\n",
       "      <td>HARV</td>\n",
       "      <td>Crimson</td>\n",
       "      <td>5c7bf63f-bc39-43c5-9907-73b50b7a6b34</td>\n",
       "      <td>275</td>\n",
       "      <td>1217</td>\n",
       "      <td>Harvard</td>\n",
       "      <td>Harvard University</td>\n",
       "      <td>NCAA MEN</td>\n",
       "      <td>NCAAM</td>\n",
       "      <td>...</td>\n",
       "      <td>Allston</td>\n",
       "      <td>MA</td>\n",
       "      <td>Soldiers Field Road</td>\n",
       "      <td>2163.0</td>\n",
       "      <td>USA</td>\n",
       "      <td>Lavietes Pavilion</td>\n",
       "      <td>2195</td>\n",
       "      <td>https://www.ncaa.com/sites/default/files/image...</td>\n",
       "      <td>https://www.ncaa.com/sites/default/files/image...</td>\n",
       "      <td>https://www.ncaa.com/sites/default/files/image...</td>\n",
       "    </tr>\n",
       "    <tr>\n",
       "      <th>3</th>\n",
       "      <td>Dartmouth</td>\n",
       "      <td>DART</td>\n",
       "      <td>Big Green</td>\n",
       "      <td>d60357bd-1205-42e9-9092-d986a2843a34</td>\n",
       "      <td>172</td>\n",
       "      <td>1171</td>\n",
       "      <td>Dartmouth</td>\n",
       "      <td>Dartmouth College</td>\n",
       "      <td>NCAA MEN</td>\n",
       "      <td>NCAAM</td>\n",
       "      <td>...</td>\n",
       "      <td>Hanover</td>\n",
       "      <td>NH</td>\n",
       "      <td>6 South Park Street</td>\n",
       "      <td>3755.0</td>\n",
       "      <td>USA</td>\n",
       "      <td>Edward Leede Arena</td>\n",
       "      <td>2100</td>\n",
       "      <td>https://www.ncaa.com/sites/default/files/image...</td>\n",
       "      <td>https://www.ncaa.com/sites/default/files/image...</td>\n",
       "      <td>https://www.ncaa.com/sites/default/files/image...</td>\n",
       "    </tr>\n",
       "    <tr>\n",
       "      <th>4</th>\n",
       "      <td>Cornell</td>\n",
       "      <td>COR</td>\n",
       "      <td>Big Red</td>\n",
       "      <td>88ff8c00-958e-4ccf-a21d-77fab9e93692</td>\n",
       "      <td>167</td>\n",
       "      <td>1165</td>\n",
       "      <td>Cornell</td>\n",
       "      <td>Cornell University</td>\n",
       "      <td>NCAA MEN</td>\n",
       "      <td>NCAAM</td>\n",
       "      <td>...</td>\n",
       "      <td>Ithaca</td>\n",
       "      <td>NY</td>\n",
       "      <td>Bartels Hall</td>\n",
       "      <td>14853.0</td>\n",
       "      <td>USA</td>\n",
       "      <td>Newman Arena</td>\n",
       "      <td>4473</td>\n",
       "      <td>https://www.ncaa.com/sites/default/files/image...</td>\n",
       "      <td>https://www.ncaa.com/sites/default/files/image...</td>\n",
       "      <td>https://www.ncaa.com/sites/default/files/image...</td>\n",
       "    </tr>\n",
       "  </tbody>\n",
       "</table>\n",
       "<p>5 rows × 28 columns</p>\n",
       "</div>"
      ],
      "text/plain": [
       "      market alias       name                                    id  \\\n",
       "0  Princeton  PRIN     Tigers  fe406882-9f22-495e-9df6-ef357a6803c6   \n",
       "1       Yale  YALE   Bulldogs  ca478771-aa3d-4231-81e0-b70f519134fb   \n",
       "2    Harvard  HARV    Crimson  5c7bf63f-bc39-43c5-9907-73b50b7a6b34   \n",
       "3  Dartmouth  DART  Big Green  d60357bd-1205-42e9-9092-d986a2843a34   \n",
       "4    Cornell   COR    Big Red  88ff8c00-958e-4ccf-a21d-77fab9e93692   \n",
       "\n",
       "   code_ncaa  kaggle_team_id school_ncaa           turner_name league_name  \\\n",
       "0        554            1343   Princeton  Princeton University    NCAA MEN   \n",
       "1        813            1463        Yale       Yale University    NCAA MEN   \n",
       "2        275            1217     Harvard    Harvard University    NCAA MEN   \n",
       "3        172            1171   Dartmouth     Dartmouth College    NCAA MEN   \n",
       "4        167            1165     Cornell    Cornell University    NCAA MEN   \n",
       "\n",
       "  league_alias  ... venue_city venue_state         venue_address venue_zip  \\\n",
       "0        NCAAM  ...  Princeton          NJ  Princeton University    8542.0   \n",
       "1        NCAAM  ...  New Haven          CT         70 Tower Pkwy    6511.0   \n",
       "2        NCAAM  ...    Allston          MA   Soldiers Field Road    2163.0   \n",
       "3        NCAAM  ...    Hanover          NH   6 South Park Street    3755.0   \n",
       "4        NCAAM  ...     Ithaca          NY          Bartels Hall   14853.0   \n",
       "\n",
       "  venue_country                venue_name venue_capacity  \\\n",
       "0           USA          Jadwin Gymnasium           6854   \n",
       "1           USA  John J. Lee Amphitheater           2532   \n",
       "2           USA         Lavietes Pavilion           2195   \n",
       "3           USA        Edward Leede Arena           2100   \n",
       "4           USA              Newman Arena           4473   \n",
       "\n",
       "                                          logo_large  \\\n",
       "0  https://www.ncaa.com/sites/default/files/image...   \n",
       "1  https://www.ncaa.com/sites/default/files/image...   \n",
       "2  https://www.ncaa.com/sites/default/files/image...   \n",
       "3  https://www.ncaa.com/sites/default/files/image...   \n",
       "4  https://www.ncaa.com/sites/default/files/image...   \n",
       "\n",
       "                                         logo_medium  \\\n",
       "0  https://www.ncaa.com/sites/default/files/image...   \n",
       "1  https://www.ncaa.com/sites/default/files/image...   \n",
       "2  https://www.ncaa.com/sites/default/files/image...   \n",
       "3  https://www.ncaa.com/sites/default/files/image...   \n",
       "4  https://www.ncaa.com/sites/default/files/image...   \n",
       "\n",
       "                                          logo_small  \n",
       "0  https://www.ncaa.com/sites/default/files/image...  \n",
       "1  https://www.ncaa.com/sites/default/files/image...  \n",
       "2  https://www.ncaa.com/sites/default/files/image...  \n",
       "3  https://www.ncaa.com/sites/default/files/image...  \n",
       "4  https://www.ncaa.com/sites/default/files/image...  \n",
       "\n",
       "[5 rows x 28 columns]"
      ]
     },
     "execution_count": 2,
     "metadata": {},
     "output_type": "execute_result"
    }
   ],
   "source": [
    "# read in the teams csv and see the first few rows\n",
    "dfTeamsUC = pd.read_csv('teams.csv')\n",
    "dfTeamsUC.head()"
   ]
  },
  {
   "cell_type": "code",
   "execution_count": 3,
   "id": "eccf3327-37a5-4425-b057-d4b702ced55c",
   "metadata": {},
   "outputs": [
    {
     "data": {
      "text/plain": [
       "Index(['market', 'alias', 'name', 'id', 'code_ncaa', 'kaggle_team_id',\n",
       "       'school_ncaa', 'turner_name', 'league_name', 'league_alias',\n",
       "       'league_id', 'conf_name', 'conf_alias', 'conf_id', 'division_name',\n",
       "       'division_alias', 'division_id', 'venue_id', 'venue_city',\n",
       "       'venue_state', 'venue_address', 'venue_zip', 'venue_country',\n",
       "       'venue_name', 'venue_capacity', 'logo_large', 'logo_medium',\n",
       "       'logo_small'],\n",
       "      dtype='object')"
      ]
     },
     "execution_count": 3,
     "metadata": {},
     "output_type": "execute_result"
    }
   ],
   "source": [
    "# list out all of the columns\n",
    "dfTeamsUC.columns"
   ]
  },
  {
   "cell_type": "markdown",
   "id": "c8580c30-c57b-4765-89a7-657ca505d98e",
   "metadata": {},
   "source": [
    "None of the venue columns will be valuable except the venue capacity if we want to look at home court advatage, so we can drop them. \n",
    "\n",
    "We also won't need the links to the team logos. \n",
    "\n",
    "Additionally, there are multiple id columns. We will just use the standard id column and can drop the others.\n",
    "\n",
    "The turner_name seems to be essentially the same as the market column, so we will keep market and drop turner."
   ]
  },
  {
   "cell_type": "code",
   "execution_count": 4,
   "id": "6d416d23-aee8-4484-80db-9f1977c8ea8c",
   "metadata": {},
   "outputs": [],
   "source": [
    "dfTeamsUC1 = dfTeamsUC.drop(['venue_id', 'venue_city',\n",
    "       'venue_state', 'venue_address', 'venue_zip', 'venue_country',\n",
    "       'venue_name', 'logo_large', 'logo_medium',\n",
    "       'logo_small', 'code_ncaa', 'kaggle_team_id',\n",
    "       'school_ncaa','turner_name'], axis=1)"
   ]
  },
  {
   "cell_type": "markdown",
   "id": "45c1cdfc-a501-42a7-a1c4-353a5c2d2edb",
   "metadata": {},
   "source": [
    "Out of the remaining columns, lets see how many unique values exist in each column"
   ]
  },
  {
   "cell_type": "code",
   "execution_count": 5,
   "id": "c3956eee-449c-4538-bf78-e777ae24857f",
   "metadata": {},
   "outputs": [
    {
     "name": "stdout",
     "output_type": "stream",
     "text": [
      "market 351\n",
      "alias 351\n",
      "name 209\n",
      "id 351\n",
      "league_name 1\n",
      "league_alias 1\n",
      "league_id 1\n",
      "conf_name 32\n",
      "conf_alias 32\n",
      "conf_id 32\n",
      "division_name 1\n",
      "division_alias 1\n",
      "division_id 1\n",
      "venue_capacity 255\n"
     ]
    }
   ],
   "source": [
    "for col in dfTeamsUC1.columns:\n",
    "    print(col, len(dfTeamsUC1[col].unique()))"
   ]
  },
  {
   "cell_type": "markdown",
   "id": "f27f7fc8-0bc7-4faf-9f1c-7058cb6e1c29",
   "metadata": {},
   "source": [
    "Since all the teams are in the same league and division, we can drop all of the corresponding columns."
   ]
  },
  {
   "cell_type": "code",
   "execution_count": 6,
   "id": "82e6ed46-c13a-499f-af19-5ca8592e3bc3",
   "metadata": {},
   "outputs": [],
   "source": [
    "dfTeamsUC2 = dfTeamsUC1.drop(['league_name', 'league_alias',\n",
    "       'league_id', 'division_name',\n",
    "       'division_alias', 'division_id'], axis=1)"
   ]
  },
  {
   "cell_type": "markdown",
   "id": "e7a569c7-109f-4390-ae75-e015659a8b82",
   "metadata": {},
   "source": [
    "Now lets take a look at the resulting dataset."
   ]
  },
  {
   "cell_type": "code",
   "execution_count": 7,
   "id": "4b5299b0-bb3a-4ae2-8148-943bb4f8f3ff",
   "metadata": {},
   "outputs": [
    {
     "data": {
      "text/html": [
       "<div>\n",
       "<style scoped>\n",
       "    .dataframe tbody tr th:only-of-type {\n",
       "        vertical-align: middle;\n",
       "    }\n",
       "\n",
       "    .dataframe tbody tr th {\n",
       "        vertical-align: top;\n",
       "    }\n",
       "\n",
       "    .dataframe thead th {\n",
       "        text-align: right;\n",
       "    }\n",
       "</style>\n",
       "<table border=\"1\" class=\"dataframe\">\n",
       "  <thead>\n",
       "    <tr style=\"text-align: right;\">\n",
       "      <th></th>\n",
       "      <th>market</th>\n",
       "      <th>alias</th>\n",
       "      <th>name</th>\n",
       "      <th>id</th>\n",
       "      <th>conf_name</th>\n",
       "      <th>conf_alias</th>\n",
       "      <th>conf_id</th>\n",
       "      <th>venue_capacity</th>\n",
       "    </tr>\n",
       "  </thead>\n",
       "  <tbody>\n",
       "    <tr>\n",
       "      <th>0</th>\n",
       "      <td>Princeton</td>\n",
       "      <td>PRIN</td>\n",
       "      <td>Tigers</td>\n",
       "      <td>fe406882-9f22-495e-9df6-ef357a6803c6</td>\n",
       "      <td>Ivy</td>\n",
       "      <td>IVY</td>\n",
       "      <td>c2d16439-b791-4f9b-84d9-80cf457a0676</td>\n",
       "      <td>6854</td>\n",
       "    </tr>\n",
       "    <tr>\n",
       "      <th>1</th>\n",
       "      <td>Yale</td>\n",
       "      <td>YALE</td>\n",
       "      <td>Bulldogs</td>\n",
       "      <td>ca478771-aa3d-4231-81e0-b70f519134fb</td>\n",
       "      <td>Ivy</td>\n",
       "      <td>IVY</td>\n",
       "      <td>c2d16439-b791-4f9b-84d9-80cf457a0676</td>\n",
       "      <td>2532</td>\n",
       "    </tr>\n",
       "    <tr>\n",
       "      <th>2</th>\n",
       "      <td>Harvard</td>\n",
       "      <td>HARV</td>\n",
       "      <td>Crimson</td>\n",
       "      <td>5c7bf63f-bc39-43c5-9907-73b50b7a6b34</td>\n",
       "      <td>Ivy</td>\n",
       "      <td>IVY</td>\n",
       "      <td>c2d16439-b791-4f9b-84d9-80cf457a0676</td>\n",
       "      <td>2195</td>\n",
       "    </tr>\n",
       "    <tr>\n",
       "      <th>3</th>\n",
       "      <td>Dartmouth</td>\n",
       "      <td>DART</td>\n",
       "      <td>Big Green</td>\n",
       "      <td>d60357bd-1205-42e9-9092-d986a2843a34</td>\n",
       "      <td>Ivy</td>\n",
       "      <td>IVY</td>\n",
       "      <td>c2d16439-b791-4f9b-84d9-80cf457a0676</td>\n",
       "      <td>2100</td>\n",
       "    </tr>\n",
       "    <tr>\n",
       "      <th>4</th>\n",
       "      <td>Cornell</td>\n",
       "      <td>COR</td>\n",
       "      <td>Big Red</td>\n",
       "      <td>88ff8c00-958e-4ccf-a21d-77fab9e93692</td>\n",
       "      <td>Ivy</td>\n",
       "      <td>IVY</td>\n",
       "      <td>c2d16439-b791-4f9b-84d9-80cf457a0676</td>\n",
       "      <td>4473</td>\n",
       "    </tr>\n",
       "  </tbody>\n",
       "</table>\n",
       "</div>"
      ],
      "text/plain": [
       "      market alias       name                                    id conf_name  \\\n",
       "0  Princeton  PRIN     Tigers  fe406882-9f22-495e-9df6-ef357a6803c6       Ivy   \n",
       "1       Yale  YALE   Bulldogs  ca478771-aa3d-4231-81e0-b70f519134fb       Ivy   \n",
       "2    Harvard  HARV    Crimson  5c7bf63f-bc39-43c5-9907-73b50b7a6b34       Ivy   \n",
       "3  Dartmouth  DART  Big Green  d60357bd-1205-42e9-9092-d986a2843a34       Ivy   \n",
       "4    Cornell   COR    Big Red  88ff8c00-958e-4ccf-a21d-77fab9e93692       Ivy   \n",
       "\n",
       "  conf_alias                               conf_id  venue_capacity  \n",
       "0        IVY  c2d16439-b791-4f9b-84d9-80cf457a0676            6854  \n",
       "1        IVY  c2d16439-b791-4f9b-84d9-80cf457a0676            2532  \n",
       "2        IVY  c2d16439-b791-4f9b-84d9-80cf457a0676            2195  \n",
       "3        IVY  c2d16439-b791-4f9b-84d9-80cf457a0676            2100  \n",
       "4        IVY  c2d16439-b791-4f9b-84d9-80cf457a0676            4473  "
      ]
     },
     "execution_count": 7,
     "metadata": {},
     "output_type": "execute_result"
    }
   ],
   "source": [
    "dfTeamsUC2.head()"
   ]
  },
  {
   "cell_type": "markdown",
   "id": "0e562a4f-e567-422d-b6be-536e0731d474",
   "metadata": {},
   "source": [
    "The dataframe is a lot simpler and easier to understand now and can be used to easily identify teams.\n",
    "\n",
    "Before finalizing the teams dataframe, lets ensure there are no missing values."
   ]
  },
  {
   "cell_type": "code",
   "execution_count": 8,
   "id": "4516e40f-2a5a-4181-95ab-83a9c5d745d2",
   "metadata": {},
   "outputs": [
    {
     "data": {
      "text/plain": [
       "market            0\n",
       "alias             0\n",
       "name              0\n",
       "id                0\n",
       "conf_name         0\n",
       "conf_alias        0\n",
       "conf_id           0\n",
       "venue_capacity    0\n",
       "dtype: int64"
      ]
     },
     "execution_count": 8,
     "metadata": {},
     "output_type": "execute_result"
    }
   ],
   "source": [
    "dfTeamsUC2.isna().sum()"
   ]
  },
  {
   "cell_type": "markdown",
   "id": "76be23fc-3080-4909-97d1-c9089dee12f0",
   "metadata": {},
   "source": [
    "Since there are no missing values, we can move on to the next csv file"
   ]
  },
  {
   "cell_type": "code",
   "execution_count": 9,
   "id": "8477f978-6ef7-4350-8230-6039729b35f2",
   "metadata": {},
   "outputs": [],
   "source": [
    "dfTeams = dfTeamsUC2.copy()"
   ]
  },
  {
   "cell_type": "code",
   "execution_count": 10,
   "id": "7b670267-0bb5-4681-959c-e9b57da16deb",
   "metadata": {},
   "outputs": [],
   "source": [
    "dfTeams.to_csv('teams_clean.csv', index=False)"
   ]
  },
  {
   "cell_type": "markdown",
   "id": "e3323c00-cf67-409b-9057-0e019d2da975",
   "metadata": {},
   "source": [
    "### teams_box_scores.csv\n",
    "\n",
    "The teams_box_scores.csv data is going to be used to cluster teams. To clean the data "
   ]
  },
  {
   "cell_type": "code",
   "execution_count": 11,
   "id": "0f99f0f2-5f3d-4f8b-925b-e3b04dc68414",
   "metadata": {
    "tags": []
   },
   "outputs": [
    {
     "name": "stderr",
     "output_type": "stream",
     "text": [
      "/var/folders/5s/_hqjmj3d7xgb3w8_skgs580r0000gn/T/ipykernel_1715/1520690117.py:2: DtypeWarning: Columns (4,7,8,9,10,11,16,21,58) have mixed types. Specify dtype option on import or set low_memory=False.\n",
      "  dfTeamBoxUC = pd.read_csv('team_box_scores.csv')\n"
     ]
    },
    {
     "data": {
      "text/html": [
       "<div>\n",
       "<style scoped>\n",
       "    .dataframe tbody tr th:only-of-type {\n",
       "        vertical-align: middle;\n",
       "    }\n",
       "\n",
       "    .dataframe tbody tr th {\n",
       "        vertical-align: top;\n",
       "    }\n",
       "\n",
       "    .dataframe thead th {\n",
       "        text-align: right;\n",
       "    }\n",
       "</style>\n",
       "<table border=\"1\" class=\"dataframe\">\n",
       "  <thead>\n",
       "    <tr style=\"text-align: right;\">\n",
       "      <th></th>\n",
       "      <th>game_id</th>\n",
       "      <th>season</th>\n",
       "      <th>status</th>\n",
       "      <th>coverage</th>\n",
       "      <th>neutral_site</th>\n",
       "      <th>scheduled_date</th>\n",
       "      <th>gametime</th>\n",
       "      <th>conference_game</th>\n",
       "      <th>tournament</th>\n",
       "      <th>tournament_type</th>\n",
       "      <th>...</th>\n",
       "      <th>opp_fast_break_pts</th>\n",
       "      <th>opp_second_chance_pts</th>\n",
       "      <th>opp_team_turnovers</th>\n",
       "      <th>opp_points_off_turnovers</th>\n",
       "      <th>opp_team_rebounds</th>\n",
       "      <th>opp_flagrant_fouls</th>\n",
       "      <th>opp_player_tech_fouls</th>\n",
       "      <th>opp_team_tech_fouls</th>\n",
       "      <th>opp_coach_tech_fouls</th>\n",
       "      <th>created</th>\n",
       "    </tr>\n",
       "  </thead>\n",
       "  <tbody>\n",
       "    <tr>\n",
       "      <th>0</th>\n",
       "      <td>4069f80e-04f0-4f69-a563-86014bbe95a0</td>\n",
       "      <td>2015</td>\n",
       "      <td>closed</td>\n",
       "      <td>full</td>\n",
       "      <td>NaN</td>\n",
       "      <td>2015-12-03</td>\n",
       "      <td>2015-12-03 03:00:00 UTC</td>\n",
       "      <td>NaN</td>\n",
       "      <td>NaN</td>\n",
       "      <td>NaN</td>\n",
       "      <td>...</td>\n",
       "      <td>0.0</td>\n",
       "      <td>3.0</td>\n",
       "      <td>0.0</td>\n",
       "      <td>10.0</td>\n",
       "      <td>4.0</td>\n",
       "      <td>0.0</td>\n",
       "      <td>0.0</td>\n",
       "      <td>0.0</td>\n",
       "      <td>0.0</td>\n",
       "      <td>2018-02-20 15:48:54 UTC</td>\n",
       "    </tr>\n",
       "    <tr>\n",
       "      <th>1</th>\n",
       "      <td>7160a0e0-bbc3-46ad-afc6-e4e6b5b90a51</td>\n",
       "      <td>2015</td>\n",
       "      <td>closed</td>\n",
       "      <td>full</td>\n",
       "      <td>NaN</td>\n",
       "      <td>2016-01-17</td>\n",
       "      <td>2016-01-17 02:00:00 UTC</td>\n",
       "      <td>NaN</td>\n",
       "      <td>NaN</td>\n",
       "      <td>NaN</td>\n",
       "      <td>...</td>\n",
       "      <td>0.0</td>\n",
       "      <td>0.0</td>\n",
       "      <td>1.0</td>\n",
       "      <td>5.0</td>\n",
       "      <td>4.0</td>\n",
       "      <td>0.0</td>\n",
       "      <td>0.0</td>\n",
       "      <td>1.0</td>\n",
       "      <td>0.0</td>\n",
       "      <td>2018-02-20 15:48:54 UTC</td>\n",
       "    </tr>\n",
       "    <tr>\n",
       "      <th>2</th>\n",
       "      <td>320ccf7a-8a32-4ce6-a561-10687985c6a6</td>\n",
       "      <td>2015</td>\n",
       "      <td>closed</td>\n",
       "      <td>full</td>\n",
       "      <td>NaN</td>\n",
       "      <td>2015-12-22</td>\n",
       "      <td>2015-12-22 20:00:00 UTC</td>\n",
       "      <td>NaN</td>\n",
       "      <td>NaN</td>\n",
       "      <td>NaN</td>\n",
       "      <td>...</td>\n",
       "      <td>2.0</td>\n",
       "      <td>8.0</td>\n",
       "      <td>1.0</td>\n",
       "      <td>6.0</td>\n",
       "      <td>1.0</td>\n",
       "      <td>0.0</td>\n",
       "      <td>0.0</td>\n",
       "      <td>0.0</td>\n",
       "      <td>0.0</td>\n",
       "      <td>2018-02-20 15:48:53 UTC</td>\n",
       "    </tr>\n",
       "    <tr>\n",
       "      <th>3</th>\n",
       "      <td>4069f80e-04f0-4f69-a563-86014bbe95a0</td>\n",
       "      <td>2015</td>\n",
       "      <td>closed</td>\n",
       "      <td>full</td>\n",
       "      <td>NaN</td>\n",
       "      <td>2015-12-03</td>\n",
       "      <td>2015-12-03 03:00:00 UTC</td>\n",
       "      <td>NaN</td>\n",
       "      <td>NaN</td>\n",
       "      <td>NaN</td>\n",
       "      <td>...</td>\n",
       "      <td>0.0</td>\n",
       "      <td>17.0</td>\n",
       "      <td>0.0</td>\n",
       "      <td>31.0</td>\n",
       "      <td>7.0</td>\n",
       "      <td>0.0</td>\n",
       "      <td>0.0</td>\n",
       "      <td>0.0</td>\n",
       "      <td>0.0</td>\n",
       "      <td>2018-02-20 15:48:54 UTC</td>\n",
       "    </tr>\n",
       "    <tr>\n",
       "      <th>4</th>\n",
       "      <td>7160a0e0-bbc3-46ad-afc6-e4e6b5b90a51</td>\n",
       "      <td>2015</td>\n",
       "      <td>closed</td>\n",
       "      <td>full</td>\n",
       "      <td>NaN</td>\n",
       "      <td>2016-01-17</td>\n",
       "      <td>2016-01-17 02:00:00 UTC</td>\n",
       "      <td>NaN</td>\n",
       "      <td>NaN</td>\n",
       "      <td>NaN</td>\n",
       "      <td>...</td>\n",
       "      <td>21.0</td>\n",
       "      <td>16.0</td>\n",
       "      <td>1.0</td>\n",
       "      <td>30.0</td>\n",
       "      <td>3.0</td>\n",
       "      <td>0.0</td>\n",
       "      <td>0.0</td>\n",
       "      <td>0.0</td>\n",
       "      <td>0.0</td>\n",
       "      <td>2018-02-20 15:48:54 UTC</td>\n",
       "    </tr>\n",
       "  </tbody>\n",
       "</table>\n",
       "<p>5 rows × 132 columns</p>\n",
       "</div>"
      ],
      "text/plain": [
       "                                game_id  season  status coverage neutral_site  \\\n",
       "0  4069f80e-04f0-4f69-a563-86014bbe95a0    2015  closed     full          NaN   \n",
       "1  7160a0e0-bbc3-46ad-afc6-e4e6b5b90a51    2015  closed     full          NaN   \n",
       "2  320ccf7a-8a32-4ce6-a561-10687985c6a6    2015  closed     full          NaN   \n",
       "3  4069f80e-04f0-4f69-a563-86014bbe95a0    2015  closed     full          NaN   \n",
       "4  7160a0e0-bbc3-46ad-afc6-e4e6b5b90a51    2015  closed     full          NaN   \n",
       "\n",
       "  scheduled_date                 gametime conference_game tournament  \\\n",
       "0     2015-12-03  2015-12-03 03:00:00 UTC             NaN        NaN   \n",
       "1     2016-01-17  2016-01-17 02:00:00 UTC             NaN        NaN   \n",
       "2     2015-12-22  2015-12-22 20:00:00 UTC             NaN        NaN   \n",
       "3     2015-12-03  2015-12-03 03:00:00 UTC             NaN        NaN   \n",
       "4     2016-01-17  2016-01-17 02:00:00 UTC             NaN        NaN   \n",
       "\n",
       "  tournament_type  ... opp_fast_break_pts opp_second_chance_pts  \\\n",
       "0             NaN  ...                0.0                   3.0   \n",
       "1             NaN  ...                0.0                   0.0   \n",
       "2             NaN  ...                2.0                   8.0   \n",
       "3             NaN  ...                0.0                  17.0   \n",
       "4             NaN  ...               21.0                  16.0   \n",
       "\n",
       "   opp_team_turnovers  opp_points_off_turnovers  opp_team_rebounds  \\\n",
       "0                 0.0                      10.0                4.0   \n",
       "1                 1.0                       5.0                4.0   \n",
       "2                 1.0                       6.0                1.0   \n",
       "3                 0.0                      31.0                7.0   \n",
       "4                 1.0                      30.0                3.0   \n",
       "\n",
       "   opp_flagrant_fouls opp_player_tech_fouls opp_team_tech_fouls  \\\n",
       "0                 0.0                   0.0                 0.0   \n",
       "1                 0.0                   0.0                 1.0   \n",
       "2                 0.0                   0.0                 0.0   \n",
       "3                 0.0                   0.0                 0.0   \n",
       "4                 0.0                   0.0                 0.0   \n",
       "\n",
       "  opp_coach_tech_fouls                  created  \n",
       "0                  0.0  2018-02-20 15:48:54 UTC  \n",
       "1                  0.0  2018-02-20 15:48:54 UTC  \n",
       "2                  0.0  2018-02-20 15:48:53 UTC  \n",
       "3                  0.0  2018-02-20 15:48:54 UTC  \n",
       "4                  0.0  2018-02-20 15:48:54 UTC  \n",
       "\n",
       "[5 rows x 132 columns]"
      ]
     },
     "execution_count": 11,
     "metadata": {},
     "output_type": "execute_result"
    }
   ],
   "source": [
    "# load the data, the warning that results is due to NaN values\n",
    "dfTeamBoxUC = pd.read_csv('team_box_scores.csv')\n",
    "dfTeamBoxUC.head()"
   ]
  },
  {
   "cell_type": "code",
   "execution_count": 12,
   "id": "fb9bd601-5d4c-4fdb-bb6c-01d5077203be",
   "metadata": {
    "tags": []
   },
   "outputs": [
    {
     "data": {
      "text/plain": [
       "'game_id, season, status, coverage, neutral_site, scheduled_date, gametime, conference_game, tournament, tournament_type, tournament_round, tournament_game_no, attendance, lead_changes, times_tied, periods, possession_arrow, venue_id, venue_city, venue_state, venue_address, venue_zip, venue_country, venue_name, venue_capacity, home_team, name, market, team_id, alias, league_id, league_name, league_alias, conf_id, conf_name, conf_alias, division_id, division_name, division_alias, logo_large, logo_medium, logo_small, opp_name, opp_market, opp_id, opp_alias, opp_league_id, opp_league_name, opp_league_alias, opp_conf_id, opp_conf_name, opp_conf_alias, opp_division_id, opp_division_name, opp_division_alias, opp_logo_large, opp_logo_medium, opp_logo_small, win, points_game, minutes, field_goals_made, field_goals_att, field_goals_pct, three_points_made, three_points_att, three_points_pct, two_points_made, two_points_att, two_points_pct, blocked_att, free_throws_made, free_throws_att, free_throws_pct, offensive_rebounds, defensive_rebounds, rebounds, assists, turnovers, steals, blocks, assists_turnover_ratio, personal_fouls, ejections, foulouts, points, fast_break_pts, second_chance_pts, team_turnovers, points_off_turnovers, team_rebounds, flagrant_fouls, player_tech_fouls, team_tech_fouls, coach_tech_fouls, opp_points_game, opp_minutes, opp_field_goals_made, opp_field_goals_att, opp_field_goals_pct, opp_three_points_made, opp_three_points_att, opp_three_points_pct, opp_two_points_made, opp_two_points_att, opp_two_points_pct, opp_blocked_att, opp_free_throws_made, opp_free_throws_att, opp_free_throws_pct, opp_offensive_rebounds, opp_defensive_rebounds, opp_rebounds, opp_assists, opp_turnovers, opp_steals, opp_blocks, opp_assists_turnover_ratio, opp_personal_fouls, opp_ejections, opp_foulouts, opp_points, opp_fast_break_pts, opp_second_chance_pts, opp_team_turnovers, opp_points_off_turnovers, opp_team_rebounds, opp_flagrant_fouls, opp_player_tech_fouls, opp_team_tech_fouls, opp_coach_tech_fouls, created'"
      ]
     },
     "execution_count": 12,
     "metadata": {},
     "output_type": "execute_result"
    }
   ],
   "source": [
    "# list all of the columns\n",
    "', '.join(dfTeamBoxUC.columns)"
   ]
  },
  {
   "cell_type": "markdown",
   "id": "bd299645-2509-4d4f-85c6-d16ac00adde7",
   "metadata": {},
   "source": [
    "As you can see, a lot of columns here are repeats from the above teams dataframe. We will remove those columns now."
   ]
  },
  {
   "cell_type": "code",
   "execution_count": 13,
   "id": "30a3e1e2-bcb5-4e01-b5da-80710ee58a5c",
   "metadata": {},
   "outputs": [],
   "source": [
    "dfTeamBoxUC1 = dfTeamBoxUC.drop(['venue_id', 'venue_city', 'venue_state', 'venue_address', \n",
    "                                 'venue_zip', 'venue_country', 'venue_name',\n",
    "                                 'name', 'market', 'alias', 'league_id', 'league_name', 'league_alias', \n",
    "                                 'conf_name', 'conf_alias', 'division_id', 'division_name', 'division_alias', \n",
    "                                 'logo_large', 'logo_medium', 'logo_small', 'opp_name', 'opp_market', 'opp_alias', \n",
    "                                 'opp_league_id', 'opp_league_name', 'opp_league_alias', 'opp_conf_name', \n",
    "                                 'opp_conf_alias', 'opp_division_id', 'opp_division_name', 'opp_division_alias', \n",
    "                                 'opp_logo_large', 'opp_logo_medium', 'opp_logo_small'], axis=1)"
   ]
  },
  {
   "cell_type": "markdown",
   "id": "c1b44de5-8ad5-47bc-b88b-999323f01fed",
   "metadata": {},
   "source": [
    "We keep the team_id, conf_id, opp_id, and opp_conf_id so that we can link the teams in the game to corresponding teams in the team dataframe. We keep the conference ids for the same reason.\n",
    "\n",
    "Let's look at the remaining columns"
   ]
  },
  {
   "cell_type": "code",
   "execution_count": 14,
   "id": "7931422b-7ceb-4338-8cb5-4d4dac37444e",
   "metadata": {},
   "outputs": [
    {
     "data": {
      "text/plain": [
       "'game_id, season, status, coverage, neutral_site, scheduled_date, gametime, conference_game, tournament, tournament_type, tournament_round, tournament_game_no, attendance, lead_changes, times_tied, periods, possession_arrow, venue_capacity, home_team, team_id, conf_id, opp_id, opp_conf_id, win, points_game, minutes, field_goals_made, field_goals_att, field_goals_pct, three_points_made, three_points_att, three_points_pct, two_points_made, two_points_att, two_points_pct, blocked_att, free_throws_made, free_throws_att, free_throws_pct, offensive_rebounds, defensive_rebounds, rebounds, assists, turnovers, steals, blocks, assists_turnover_ratio, personal_fouls, ejections, foulouts, points, fast_break_pts, second_chance_pts, team_turnovers, points_off_turnovers, team_rebounds, flagrant_fouls, player_tech_fouls, team_tech_fouls, coach_tech_fouls, opp_points_game, opp_minutes, opp_field_goals_made, opp_field_goals_att, opp_field_goals_pct, opp_three_points_made, opp_three_points_att, opp_three_points_pct, opp_two_points_made, opp_two_points_att, opp_two_points_pct, opp_blocked_att, opp_free_throws_made, opp_free_throws_att, opp_free_throws_pct, opp_offensive_rebounds, opp_defensive_rebounds, opp_rebounds, opp_assists, opp_turnovers, opp_steals, opp_blocks, opp_assists_turnover_ratio, opp_personal_fouls, opp_ejections, opp_foulouts, opp_points, opp_fast_break_pts, opp_second_chance_pts, opp_team_turnovers, opp_points_off_turnovers, opp_team_rebounds, opp_flagrant_fouls, opp_player_tech_fouls, opp_team_tech_fouls, opp_coach_tech_fouls, created'"
      ]
     },
     "execution_count": 14,
     "metadata": {},
     "output_type": "execute_result"
    }
   ],
   "source": [
    "# list all of the columns\n",
    "', '.join(dfTeamBoxUC1.columns)"
   ]
  },
  {
   "cell_type": "markdown",
   "id": "1d28445f-83da-414d-9abe-a39c3c87835c",
   "metadata": {},
   "source": [
    "We want to keep all columns after and including the win column as these are boolean or numerical statistics regarding the game. We do not need the final created column however as this is a timestamp that does not relate to our analysis.\n",
    "\n",
    "The only columns left to look at are the following:\n",
    "\n",
    "game_id, season, status, coverage, neutral_site, scheduled_date, gametime, conference_game, tournament, tournament_type, tournament_round, tournament_game_no, attendance, lead_changes, times_tied, periods, possession_arrow, home_team\n",
    "\n",
    "We will want to keep game_id, season, attendance, lead_changes, times_tied, periods, and home team but the rest can be discarded as they will not be useful for our purposes."
   ]
  },
  {
   "cell_type": "code",
   "execution_count": 15,
   "id": "b846161b-9753-41fc-9390-9763dd4c4906",
   "metadata": {},
   "outputs": [],
   "source": [
    "dfTeamBoxUC2 = dfTeamBoxUC1.drop(['status', 'coverage', 'neutral_site', 'scheduled_date', 'gametime', \n",
    "'conference_game', 'tournament', 'tournament_type', 'tournament_round', \n",
    "'tournament_game_no', 'possession_arrow', 'created'], axis=1)"
   ]
  },
  {
   "cell_type": "markdown",
   "id": "2636cbd4-d225-4e94-8344-7421da516adb",
   "metadata": {},
   "source": [
    "At this point, all the columns in our dataframe dfTeamBoxUC2 could be interesting for clustering teams. Now we need to take care of any missing data."
   ]
  },
  {
   "cell_type": "code",
   "execution_count": 16,
   "id": "d3dcb595-88cc-4ce1-b08f-aae7ab19d4d3",
   "metadata": {},
   "outputs": [
    {
     "data": {
      "text/plain": [
       "win                              2\n",
       "periods                         62\n",
       "conf_id                         72\n",
       "opp_conf_id                     72\n",
       "venue_capacity                 294\n",
       "points                        8019\n",
       "opp_two_points_made           8019\n",
       "opp_three_points_pct          8019\n",
       "opp_three_points_att          8019\n",
       "opp_three_points_made         8019\n",
       "opp_field_goals_pct           8019\n",
       "opp_minutes                   8019\n",
       "opp_field_goals_made          8019\n",
       "opp_two_points_att            8019\n",
       "player_tech_fouls             8019\n",
       "flagrant_fouls                8019\n",
       "opp_field_goals_att           8019\n",
       "opp_two_points_pct            8019\n",
       "opp_free_throws_att           8019\n",
       "opp_free_throws_made          8019\n",
       "opp_personal_fouls            8019\n",
       "opp_free_throws_pct           8019\n",
       "opp_offensive_rebounds        8019\n",
       "opp_defensive_rebounds        8019\n",
       "opp_rebounds                  8019\n",
       "opp_assists                   8019\n",
       "opp_turnovers                 8019\n",
       "opp_steals                    8019\n",
       "opp_blocks                    8019\n",
       "opp_assists_turnover_ratio    8019\n",
       "dtype: int64"
      ]
     },
     "execution_count": 16,
     "metadata": {},
     "output_type": "execute_result"
    }
   ],
   "source": [
    "# look at 30 columns with the least number of missing values, excluding the columns with no missing values\n",
    "dfTeamBoxUC2.isna().sum()[lambda x: x > 0].sort_values(ascending=True)[:30]"
   ]
  },
  {
   "cell_type": "markdown",
   "id": "e900c7b5-ac4a-425b-825c-1f63906a0908",
   "metadata": {},
   "source": [
    "It appears that there are 8019 rows that have missing values in a lot of columns. Let's get rid of those rows and then see what remains."
   ]
  },
  {
   "cell_type": "code",
   "execution_count": 17,
   "id": "b104add6-290c-42b2-bc88-16d01efe51fa",
   "metadata": {},
   "outputs": [],
   "source": [
    "dfTeamBoxUC3 = dfTeamBoxUC2.dropna(subset=['opp_free_throws_att', 'assists'])"
   ]
  },
  {
   "cell_type": "markdown",
   "id": "4cec2ec4-efc9-42e6-88a7-6229e074fc86",
   "metadata": {},
   "source": [
    "Now lets look at the columns with missing data again"
   ]
  },
  {
   "cell_type": "code",
   "execution_count": 18,
   "id": "2e6260c6-5b86-428e-9386-4522b196a73d",
   "metadata": {},
   "outputs": [
    {
     "data": {
      "text/plain": [
       "win                             2\n",
       "periods                        62\n",
       "conf_id                        66\n",
       "opp_conf_id                    66\n",
       "venue_capacity                240\n",
       "lead_changes                  656\n",
       "times_tied                    728\n",
       "opp_team_rebounds             993\n",
       "team_rebounds                 993\n",
       "opp_points_off_turnovers     1336\n",
       "points_off_turnovers         1336\n",
       "second_chance_pts            1361\n",
       "opp_second_chance_pts        1361\n",
       "team_turnovers               1502\n",
       "opp_team_turnovers           1502\n",
       "attendance                   2522\n",
       "opp_fast_break_pts           2970\n",
       "fast_break_pts               2970\n",
       "opp_ejections               15532\n",
       "ejections                   15532\n",
       "opp_team_tech_fouls         27491\n",
       "team_tech_fouls             27491\n",
       "opp_foulouts                27522\n",
       "foulouts                    27522\n",
       "coach_tech_fouls            29142\n",
       "opp_coach_tech_fouls        29142\n",
       "dtype: int64"
      ]
     },
     "execution_count": 18,
     "metadata": {},
     "output_type": "execute_result"
    }
   ],
   "source": [
    "dfTeamBoxUC3.isna().sum()[lambda x: x > 0].sort_values(ascending=True)"
   ]
  },
  {
   "cell_type": "markdown",
   "id": "15abe733-64f0-43d5-b6ee-27f83ff98f3d",
   "metadata": {},
   "source": [
    "It seems the following columns have a lot of missing data: \n",
    "\n",
    "ejections, opp_ejections, opp_foulouts, foulouts, team_tech_fouls, opp_team_tech_fouls, coach_tech_fouls, opp_coach_tech_fouls\n",
    "\n",
    "Since these statistics are relatively unique and not extremely important for analyzing how teams play, we can drop them. \n",
    "\n"
   ]
  },
  {
   "cell_type": "code",
   "execution_count": 19,
   "id": "668a959d-c45d-4ae1-839b-bcdd713e1948",
   "metadata": {},
   "outputs": [],
   "source": [
    "dfTeamBoxUC4 = dfTeamBoxUC3.drop(['ejections', 'opp_ejections', 'opp_foulouts', 'foulouts', 'team_tech_fouls', \n",
    "                                           'opp_team_tech_fouls', 'coach_tech_fouls', 'opp_coach_tech_fouls'], axis=1)"
   ]
  },
  {
   "cell_type": "markdown",
   "id": "dd2315da-4102-4390-9675-d92a08d16ef4",
   "metadata": {},
   "source": [
    "Now let's look at the remaining missing data one more time."
   ]
  },
  {
   "cell_type": "code",
   "execution_count": 20,
   "id": "899a6584-880c-49e0-8767-ca531fe41bd8",
   "metadata": {},
   "outputs": [
    {
     "data": {
      "text/plain": [
       "win                            2\n",
       "periods                       62\n",
       "conf_id                       66\n",
       "opp_conf_id                   66\n",
       "venue_capacity               240\n",
       "lead_changes                 656\n",
       "times_tied                   728\n",
       "opp_team_rebounds            993\n",
       "team_rebounds                993\n",
       "opp_points_off_turnovers    1336\n",
       "points_off_turnovers        1336\n",
       "second_chance_pts           1361\n",
       "opp_second_chance_pts       1361\n",
       "team_turnovers              1502\n",
       "opp_team_turnovers          1502\n",
       "attendance                  2522\n",
       "opp_fast_break_pts          2970\n",
       "fast_break_pts              2970\n",
       "dtype: int64"
      ]
     },
     "execution_count": 20,
     "metadata": {},
     "output_type": "execute_result"
    }
   ],
   "source": [
    "dfTeamBoxUC4.isna().sum()[lambda x: x > 0].sort_values(ascending=True)"
   ]
  },
  {
   "cell_type": "markdown",
   "id": "bbd1a487-d78e-4fd0-9a6f-342bfdce6421",
   "metadata": {},
   "source": [
    "At this point I want to try and fill in the missing data instead of dropping rows. I will go through the columns now.\n",
    "\n",
    "#### Wins"
   ]
  },
  {
   "cell_type": "code",
   "execution_count": 21,
   "id": "9f85dd62-29ad-4777-a1d5-ff69d90f9f82",
   "metadata": {},
   "outputs": [
    {
     "data": {
      "text/html": [
       "<div>\n",
       "<style scoped>\n",
       "    .dataframe tbody tr th:only-of-type {\n",
       "        vertical-align: middle;\n",
       "    }\n",
       "\n",
       "    .dataframe tbody tr th {\n",
       "        vertical-align: top;\n",
       "    }\n",
       "\n",
       "    .dataframe thead th {\n",
       "        text-align: right;\n",
       "    }\n",
       "</style>\n",
       "<table border=\"1\" class=\"dataframe\">\n",
       "  <thead>\n",
       "    <tr style=\"text-align: right;\">\n",
       "      <th></th>\n",
       "      <th>points_game</th>\n",
       "      <th>opp_points_game</th>\n",
       "      <th>points</th>\n",
       "      <th>opp_points</th>\n",
       "      <th>win</th>\n",
       "    </tr>\n",
       "  </thead>\n",
       "  <tbody>\n",
       "    <tr>\n",
       "      <th>27540</th>\n",
       "      <td>0</td>\n",
       "      <td>0</td>\n",
       "      <td>98.0</td>\n",
       "      <td>84.0</td>\n",
       "      <td>NaN</td>\n",
       "    </tr>\n",
       "    <tr>\n",
       "      <th>33556</th>\n",
       "      <td>0</td>\n",
       "      <td>0</td>\n",
       "      <td>84.0</td>\n",
       "      <td>98.0</td>\n",
       "      <td>NaN</td>\n",
       "    </tr>\n",
       "  </tbody>\n",
       "</table>\n",
       "</div>"
      ],
      "text/plain": [
       "       points_game  opp_points_game  points  opp_points  win\n",
       "27540            0                0    98.0        84.0  NaN\n",
       "33556            0                0    84.0        98.0  NaN"
      ]
     },
     "execution_count": 21,
     "metadata": {},
     "output_type": "execute_result"
    }
   ],
   "source": [
    "dfTeamBoxUC4[dfTeamBoxUC4['win'].isna()][['points_game', 'opp_points_game', 'points', 'opp_points', 'win']]"
   ]
  },
  {
   "cell_type": "markdown",
   "id": "06786254-eb4d-4794-96ba-8844b2afeb57",
   "metadata": {},
   "source": [
    "It appears that the win column isn't populated because the points_game and opp_points_game columns are empty. It also appears that points_game and opp_points_game might be duplicate columns of points and opp_points. Let's fix these two rows and then see if we can drop two of these duplicated columns."
   ]
  },
  {
   "cell_type": "code",
   "execution_count": 22,
   "id": "bab565c0-b93f-46d8-a1b0-473602383218",
   "metadata": {},
   "outputs": [],
   "source": [
    "# fix missing win columns\n",
    "missing_win_rows_index = dfTeamBoxUC4[dfTeamBoxUC4['win'].isna()].index\n",
    "dfTeamBoxUC4.loc[missing_win_rows_index, 'points_game'] = dfTeamBoxUC4.loc[missing_win_rows_index, 'points']\n",
    "dfTeamBoxUC4.loc[missing_win_rows_index, 'opp_points_game'] = dfTeamBoxUC4.loc[missing_win_rows_index, 'opp_points']\n",
    "dfTeamBoxUC4.loc[missing_win_rows_index, 'win'] = dfTeamBoxUC4.loc[missing_win_rows_index, 'points_game'] > dfTeamBoxUC4.loc[missing_win_rows_index, 'opp_points_game']"
   ]
  },
  {
   "cell_type": "code",
   "execution_count": 23,
   "id": "ed16f581-1886-4308-b29e-dffac2595a2a",
   "metadata": {},
   "outputs": [
    {
     "data": {
      "text/html": [
       "<div>\n",
       "<style scoped>\n",
       "    .dataframe tbody tr th:only-of-type {\n",
       "        vertical-align: middle;\n",
       "    }\n",
       "\n",
       "    .dataframe tbody tr th {\n",
       "        vertical-align: top;\n",
       "    }\n",
       "\n",
       "    .dataframe thead th {\n",
       "        text-align: right;\n",
       "    }\n",
       "</style>\n",
       "<table border=\"1\" class=\"dataframe\">\n",
       "  <thead>\n",
       "    <tr style=\"text-align: right;\">\n",
       "      <th></th>\n",
       "      <th>season</th>\n",
       "      <th>team_id</th>\n",
       "      <th>opp_id</th>\n",
       "      <th>points_game</th>\n",
       "      <th>opp_points_game</th>\n",
       "      <th>points</th>\n",
       "      <th>opp_points</th>\n",
       "      <th>win</th>\n",
       "    </tr>\n",
       "  </thead>\n",
       "  <tbody>\n",
       "    <tr>\n",
       "      <th>41</th>\n",
       "      <td>2014</td>\n",
       "      <td>620d5944-7156-47d3-aad5-5b3824557d03</td>\n",
       "      <td>441a11b4-b506-45b3-8030-fe72a4381c40</td>\n",
       "      <td>61</td>\n",
       "      <td>70</td>\n",
       "      <td>61.0</td>\n",
       "      <td>72.0</td>\n",
       "      <td>False</td>\n",
       "    </tr>\n",
       "    <tr>\n",
       "      <th>488</th>\n",
       "      <td>2014</td>\n",
       "      <td>fa416692-7e09-4f0a-9bcf-0cf7d5149a14</td>\n",
       "      <td>b795ddbc-baab-4499-8803-52e8608520ab</td>\n",
       "      <td>68</td>\n",
       "      <td>81</td>\n",
       "      <td>136.0</td>\n",
       "      <td>162.0</td>\n",
       "      <td>False</td>\n",
       "    </tr>\n",
       "    <tr>\n",
       "      <th>550</th>\n",
       "      <td>2014</td>\n",
       "      <td>a52b2ece-1f87-45b5-ae1e-8d0920479965</td>\n",
       "      <td>1f99a164-d593-4d81-85d5-0d7889d6f486</td>\n",
       "      <td>59</td>\n",
       "      <td>71</td>\n",
       "      <td>59.0</td>\n",
       "      <td>74.0</td>\n",
       "      <td>False</td>\n",
       "    </tr>\n",
       "    <tr>\n",
       "      <th>2634</th>\n",
       "      <td>2013</td>\n",
       "      <td>55af9c69-3675-4b9b-a882-96640b782fff</td>\n",
       "      <td>054c3e85-0552-4549-b123-7e84af6e7b6c</td>\n",
       "      <td>79</td>\n",
       "      <td>78</td>\n",
       "      <td>79.0</td>\n",
       "      <td>81.0</td>\n",
       "      <td>True</td>\n",
       "    </tr>\n",
       "    <tr>\n",
       "      <th>5920</th>\n",
       "      <td>2014</td>\n",
       "      <td>b795ddbc-baab-4499-8803-52e8608520ab</td>\n",
       "      <td>fa416692-7e09-4f0a-9bcf-0cf7d5149a14</td>\n",
       "      <td>81</td>\n",
       "      <td>68</td>\n",
       "      <td>162.0</td>\n",
       "      <td>136.0</td>\n",
       "      <td>True</td>\n",
       "    </tr>\n",
       "    <tr>\n",
       "      <th>...</th>\n",
       "      <td>...</td>\n",
       "      <td>...</td>\n",
       "      <td>...</td>\n",
       "      <td>...</td>\n",
       "      <td>...</td>\n",
       "      <td>...</td>\n",
       "      <td>...</td>\n",
       "      <td>...</td>\n",
       "    </tr>\n",
       "    <tr>\n",
       "      <th>56798</th>\n",
       "      <td>2016</td>\n",
       "      <td>a52b2ece-1f87-45b5-ae1e-8d0920479965</td>\n",
       "      <td>e57bd0ba-2f36-48a8-ab40-c262edb4d857</td>\n",
       "      <td>73</td>\n",
       "      <td>59</td>\n",
       "      <td>73.0</td>\n",
       "      <td>0.0</td>\n",
       "      <td>True</td>\n",
       "    </tr>\n",
       "    <tr>\n",
       "      <th>56866</th>\n",
       "      <td>2017</td>\n",
       "      <td>3b6293f3-03db-46d2-8793-248963c2d83b</td>\n",
       "      <td>d4dc55b3-94fe-4d4f-b0bf-c50c5f064392</td>\n",
       "      <td>76</td>\n",
       "      <td>77</td>\n",
       "      <td>76.0</td>\n",
       "      <td>90.0</td>\n",
       "      <td>False</td>\n",
       "    </tr>\n",
       "    <tr>\n",
       "      <th>58640</th>\n",
       "      <td>2017</td>\n",
       "      <td>4aebd148-8119-4875-954c-66779867989b</td>\n",
       "      <td>24051034-96bb-4f78-a3a6-312f3258780f</td>\n",
       "      <td>85</td>\n",
       "      <td>54</td>\n",
       "      <td>85.0</td>\n",
       "      <td>56.0</td>\n",
       "      <td>True</td>\n",
       "    </tr>\n",
       "    <tr>\n",
       "      <th>59249</th>\n",
       "      <td>2017</td>\n",
       "      <td>15d31915-fbd6-4ae3-8e4b-f3b563c56a18</td>\n",
       "      <td>6dfaf0ba-47c4-4e05-b0a7-72734747d48f</td>\n",
       "      <td>75</td>\n",
       "      <td>83</td>\n",
       "      <td>75.0</td>\n",
       "      <td>82.0</td>\n",
       "      <td>False</td>\n",
       "    </tr>\n",
       "    <tr>\n",
       "      <th>59318</th>\n",
       "      <td>2017</td>\n",
       "      <td>c946b7ac-5159-4817-93c4-fc9495c6425b</td>\n",
       "      <td>7e42fa84-68cd-47a6-b49a-18b5414d8084</td>\n",
       "      <td>62</td>\n",
       "      <td>63</td>\n",
       "      <td>62.0</td>\n",
       "      <td>68.0</td>\n",
       "      <td>False</td>\n",
       "    </tr>\n",
       "  </tbody>\n",
       "</table>\n",
       "<p>917 rows × 8 columns</p>\n",
       "</div>"
      ],
      "text/plain": [
       "       season                               team_id  \\\n",
       "41       2014  620d5944-7156-47d3-aad5-5b3824557d03   \n",
       "488      2014  fa416692-7e09-4f0a-9bcf-0cf7d5149a14   \n",
       "550      2014  a52b2ece-1f87-45b5-ae1e-8d0920479965   \n",
       "2634     2013  55af9c69-3675-4b9b-a882-96640b782fff   \n",
       "5920     2014  b795ddbc-baab-4499-8803-52e8608520ab   \n",
       "...       ...                                   ...   \n",
       "56798    2016  a52b2ece-1f87-45b5-ae1e-8d0920479965   \n",
       "56866    2017  3b6293f3-03db-46d2-8793-248963c2d83b   \n",
       "58640    2017  4aebd148-8119-4875-954c-66779867989b   \n",
       "59249    2017  15d31915-fbd6-4ae3-8e4b-f3b563c56a18   \n",
       "59318    2017  c946b7ac-5159-4817-93c4-fc9495c6425b   \n",
       "\n",
       "                                     opp_id  points_game  opp_points_game  \\\n",
       "41     441a11b4-b506-45b3-8030-fe72a4381c40           61               70   \n",
       "488    b795ddbc-baab-4499-8803-52e8608520ab           68               81   \n",
       "550    1f99a164-d593-4d81-85d5-0d7889d6f486           59               71   \n",
       "2634   054c3e85-0552-4549-b123-7e84af6e7b6c           79               78   \n",
       "5920   fa416692-7e09-4f0a-9bcf-0cf7d5149a14           81               68   \n",
       "...                                     ...          ...              ...   \n",
       "56798  e57bd0ba-2f36-48a8-ab40-c262edb4d857           73               59   \n",
       "56866  d4dc55b3-94fe-4d4f-b0bf-c50c5f064392           76               77   \n",
       "58640  24051034-96bb-4f78-a3a6-312f3258780f           85               54   \n",
       "59249  6dfaf0ba-47c4-4e05-b0a7-72734747d48f           75               83   \n",
       "59318  7e42fa84-68cd-47a6-b49a-18b5414d8084           62               63   \n",
       "\n",
       "       points  opp_points    win  \n",
       "41       61.0        72.0  False  \n",
       "488     136.0       162.0  False  \n",
       "550      59.0        74.0  False  \n",
       "2634     79.0        81.0   True  \n",
       "5920    162.0       136.0   True  \n",
       "...       ...         ...    ...  \n",
       "56798    73.0         0.0   True  \n",
       "56866    76.0        90.0  False  \n",
       "58640    85.0        56.0   True  \n",
       "59249    75.0        82.0  False  \n",
       "59318    62.0        68.0  False  \n",
       "\n",
       "[917 rows x 8 columns]"
      ]
     },
     "execution_count": 23,
     "metadata": {},
     "output_type": "execute_result"
    }
   ],
   "source": [
    "# see if we can get rid of points_game or points\n",
    "dfTeamBoxUC4[dfTeamBoxUC4['opp_points_game'] != dfTeamBoxUC4['opp_points'].astype(int)][['season', 'team_id', 'opp_id', 'points_game', 'opp_points_game', 'points', 'opp_points', 'win']]"
   ]
  },
  {
   "cell_type": "code",
   "execution_count": 24,
   "id": "1772f7d9-13d3-4588-a5b9-e64f5eed732a",
   "metadata": {},
   "outputs": [
    {
     "data": {
      "text/html": [
       "<div>\n",
       "<style scoped>\n",
       "    .dataframe tbody tr th:only-of-type {\n",
       "        vertical-align: middle;\n",
       "    }\n",
       "\n",
       "    .dataframe tbody tr th {\n",
       "        vertical-align: top;\n",
       "    }\n",
       "\n",
       "    .dataframe thead th {\n",
       "        text-align: right;\n",
       "    }\n",
       "</style>\n",
       "<table border=\"1\" class=\"dataframe\">\n",
       "  <thead>\n",
       "    <tr style=\"text-align: right;\">\n",
       "      <th></th>\n",
       "      <th>market</th>\n",
       "      <th>alias</th>\n",
       "      <th>name</th>\n",
       "      <th>id</th>\n",
       "      <th>conf_name</th>\n",
       "      <th>conf_alias</th>\n",
       "      <th>conf_id</th>\n",
       "      <th>venue_capacity</th>\n",
       "    </tr>\n",
       "  </thead>\n",
       "  <tbody>\n",
       "    <tr>\n",
       "      <th>159</th>\n",
       "      <td>San Diego</td>\n",
       "      <td>USD</td>\n",
       "      <td>Toreros</td>\n",
       "      <td>620d5944-7156-47d3-aad5-5b3824557d03</td>\n",
       "      <td>West Coast</td>\n",
       "      <td>WCC</td>\n",
       "      <td>c664ceee-1dc0-4743-a6d8-11fbdfb87f61</td>\n",
       "      <td>5100</td>\n",
       "    </tr>\n",
       "  </tbody>\n",
       "</table>\n",
       "</div>"
      ],
      "text/plain": [
       "        market alias     name                                    id  \\\n",
       "159  San Diego   USD  Toreros  620d5944-7156-47d3-aad5-5b3824557d03   \n",
       "\n",
       "      conf_name conf_alias                               conf_id  \\\n",
       "159  West Coast        WCC  c664ceee-1dc0-4743-a6d8-11fbdfb87f61   \n",
       "\n",
       "     venue_capacity  \n",
       "159            5100  "
      ]
     },
     "execution_count": 24,
     "metadata": {},
     "output_type": "execute_result"
    }
   ],
   "source": [
    "dfTeams[dfTeams['id'] == '620d5944-7156-47d3-aad5-5b3824557d03']"
   ]
  },
  {
   "cell_type": "code",
   "execution_count": 25,
   "id": "625ea40b-9fd1-46bc-982b-aa2d0f9cbdc7",
   "metadata": {},
   "outputs": [
    {
     "data": {
      "text/html": [
       "<div>\n",
       "<style scoped>\n",
       "    .dataframe tbody tr th:only-of-type {\n",
       "        vertical-align: middle;\n",
       "    }\n",
       "\n",
       "    .dataframe tbody tr th {\n",
       "        vertical-align: top;\n",
       "    }\n",
       "\n",
       "    .dataframe thead th {\n",
       "        text-align: right;\n",
       "    }\n",
       "</style>\n",
       "<table border=\"1\" class=\"dataframe\">\n",
       "  <thead>\n",
       "    <tr style=\"text-align: right;\">\n",
       "      <th></th>\n",
       "      <th>market</th>\n",
       "      <th>alias</th>\n",
       "      <th>name</th>\n",
       "      <th>id</th>\n",
       "      <th>conf_name</th>\n",
       "      <th>conf_alias</th>\n",
       "      <th>conf_id</th>\n",
       "      <th>venue_capacity</th>\n",
       "    </tr>\n",
       "  </thead>\n",
       "  <tbody>\n",
       "    <tr>\n",
       "      <th>150</th>\n",
       "      <td>Loyola Marymount</td>\n",
       "      <td>LMU</td>\n",
       "      <td>Lions</td>\n",
       "      <td>441a11b4-b506-45b3-8030-fe72a4381c40</td>\n",
       "      <td>West Coast</td>\n",
       "      <td>WCC</td>\n",
       "      <td>c664ceee-1dc0-4743-a6d8-11fbdfb87f61</td>\n",
       "      <td>3900</td>\n",
       "    </tr>\n",
       "  </tbody>\n",
       "</table>\n",
       "</div>"
      ],
      "text/plain": [
       "               market alias   name                                    id  \\\n",
       "150  Loyola Marymount   LMU  Lions  441a11b4-b506-45b3-8030-fe72a4381c40   \n",
       "\n",
       "      conf_name conf_alias                               conf_id  \\\n",
       "150  West Coast        WCC  c664ceee-1dc0-4743-a6d8-11fbdfb87f61   \n",
       "\n",
       "     venue_capacity  \n",
       "150            3900  "
      ]
     },
     "execution_count": 25,
     "metadata": {},
     "output_type": "execute_result"
    }
   ],
   "source": [
    "dfTeams[dfTeams['id'] == '441a11b4-b506-45b3-8030-fe72a4381c40']"
   ]
  },
  {
   "cell_type": "code",
   "execution_count": 26,
   "id": "977cff6b-23e7-4230-b0be-029cad10e455",
   "metadata": {},
   "outputs": [
    {
     "data": {
      "text/html": [
       "<div>\n",
       "<style scoped>\n",
       "    .dataframe tbody tr th:only-of-type {\n",
       "        vertical-align: middle;\n",
       "    }\n",
       "\n",
       "    .dataframe tbody tr th {\n",
       "        vertical-align: top;\n",
       "    }\n",
       "\n",
       "    .dataframe thead th {\n",
       "        text-align: right;\n",
       "    }\n",
       "</style>\n",
       "<table border=\"1\" class=\"dataframe\">\n",
       "  <thead>\n",
       "    <tr style=\"text-align: right;\">\n",
       "      <th></th>\n",
       "      <th>rebounds</th>\n",
       "      <th>team_rebounds</th>\n",
       "    </tr>\n",
       "  </thead>\n",
       "  <tbody>\n",
       "    <tr>\n",
       "      <th>0</th>\n",
       "      <td>37.0</td>\n",
       "      <td>7.0</td>\n",
       "    </tr>\n",
       "    <tr>\n",
       "      <th>1</th>\n",
       "      <td>42.0</td>\n",
       "      <td>3.0</td>\n",
       "    </tr>\n",
       "    <tr>\n",
       "      <th>2</th>\n",
       "      <td>46.0</td>\n",
       "      <td>4.0</td>\n",
       "    </tr>\n",
       "    <tr>\n",
       "      <th>3</th>\n",
       "      <td>34.0</td>\n",
       "      <td>4.0</td>\n",
       "    </tr>\n",
       "    <tr>\n",
       "      <th>4</th>\n",
       "      <td>20.0</td>\n",
       "      <td>4.0</td>\n",
       "    </tr>\n",
       "    <tr>\n",
       "      <th>...</th>\n",
       "      <td>...</td>\n",
       "      <td>...</td>\n",
       "    </tr>\n",
       "    <tr>\n",
       "      <th>59605</th>\n",
       "      <td>29.0</td>\n",
       "      <td>6.0</td>\n",
       "    </tr>\n",
       "    <tr>\n",
       "      <th>59606</th>\n",
       "      <td>34.0</td>\n",
       "      <td>4.0</td>\n",
       "    </tr>\n",
       "    <tr>\n",
       "      <th>59607</th>\n",
       "      <td>37.0</td>\n",
       "      <td>5.0</td>\n",
       "    </tr>\n",
       "    <tr>\n",
       "      <th>59608</th>\n",
       "      <td>35.0</td>\n",
       "      <td>3.0</td>\n",
       "    </tr>\n",
       "    <tr>\n",
       "      <th>59609</th>\n",
       "      <td>33.0</td>\n",
       "      <td>2.0</td>\n",
       "    </tr>\n",
       "  </tbody>\n",
       "</table>\n",
       "<p>51576 rows × 2 columns</p>\n",
       "</div>"
      ],
      "text/plain": [
       "       rebounds  team_rebounds\n",
       "0          37.0            7.0\n",
       "1          42.0            3.0\n",
       "2          46.0            4.0\n",
       "3          34.0            4.0\n",
       "4          20.0            4.0\n",
       "...         ...            ...\n",
       "59605      29.0            6.0\n",
       "59606      34.0            4.0\n",
       "59607      37.0            5.0\n",
       "59608      35.0            3.0\n",
       "59609      33.0            2.0\n",
       "\n",
       "[51576 rows x 2 columns]"
      ]
     },
     "execution_count": 26,
     "metadata": {},
     "output_type": "execute_result"
    }
   ],
   "source": [
    "dfTeamBoxUC4[dfTeamBoxUC4['rebounds'] != dfTeamBoxUC4['team_rebounds']][['rebounds', 'team_rebounds']]"
   ]
  },
  {
   "cell_type": "code",
   "execution_count": 27,
   "id": "4fc163e4-34b3-4145-889e-14f69880df32",
   "metadata": {},
   "outputs": [
    {
     "data": {
      "text/html": [
       "<div>\n",
       "<style scoped>\n",
       "    .dataframe tbody tr th:only-of-type {\n",
       "        vertical-align: middle;\n",
       "    }\n",
       "\n",
       "    .dataframe tbody tr th {\n",
       "        vertical-align: top;\n",
       "    }\n",
       "\n",
       "    .dataframe thead th {\n",
       "        text-align: right;\n",
       "    }\n",
       "</style>\n",
       "<table border=\"1\" class=\"dataframe\">\n",
       "  <thead>\n",
       "    <tr style=\"text-align: right;\">\n",
       "      <th></th>\n",
       "      <th>turnovers</th>\n",
       "      <th>team_turnovers</th>\n",
       "    </tr>\n",
       "  </thead>\n",
       "  <tbody>\n",
       "    <tr>\n",
       "      <th>0</th>\n",
       "      <td>13.0</td>\n",
       "      <td>0.0</td>\n",
       "    </tr>\n",
       "    <tr>\n",
       "      <th>1</th>\n",
       "      <td>17.0</td>\n",
       "      <td>1.0</td>\n",
       "    </tr>\n",
       "    <tr>\n",
       "      <th>2</th>\n",
       "      <td>11.0</td>\n",
       "      <td>0.0</td>\n",
       "    </tr>\n",
       "    <tr>\n",
       "      <th>3</th>\n",
       "      <td>23.0</td>\n",
       "      <td>0.0</td>\n",
       "    </tr>\n",
       "    <tr>\n",
       "      <th>4</th>\n",
       "      <td>21.0</td>\n",
       "      <td>1.0</td>\n",
       "    </tr>\n",
       "    <tr>\n",
       "      <th>...</th>\n",
       "      <td>...</td>\n",
       "      <td>...</td>\n",
       "    </tr>\n",
       "    <tr>\n",
       "      <th>59605</th>\n",
       "      <td>9.0</td>\n",
       "      <td>0.0</td>\n",
       "    </tr>\n",
       "    <tr>\n",
       "      <th>59606</th>\n",
       "      <td>16.0</td>\n",
       "      <td>0.0</td>\n",
       "    </tr>\n",
       "    <tr>\n",
       "      <th>59607</th>\n",
       "      <td>13.0</td>\n",
       "      <td>0.0</td>\n",
       "    </tr>\n",
       "    <tr>\n",
       "      <th>59608</th>\n",
       "      <td>8.0</td>\n",
       "      <td>1.0</td>\n",
       "    </tr>\n",
       "    <tr>\n",
       "      <th>59609</th>\n",
       "      <td>12.0</td>\n",
       "      <td>0.0</td>\n",
       "    </tr>\n",
       "  </tbody>\n",
       "</table>\n",
       "<p>51531 rows × 2 columns</p>\n",
       "</div>"
      ],
      "text/plain": [
       "       turnovers  team_turnovers\n",
       "0           13.0             0.0\n",
       "1           17.0             1.0\n",
       "2           11.0             0.0\n",
       "3           23.0             0.0\n",
       "4           21.0             1.0\n",
       "...          ...             ...\n",
       "59605        9.0             0.0\n",
       "59606       16.0             0.0\n",
       "59607       13.0             0.0\n",
       "59608        8.0             1.0\n",
       "59609       12.0             0.0\n",
       "\n",
       "[51531 rows x 2 columns]"
      ]
     },
     "execution_count": 27,
     "metadata": {},
     "output_type": "execute_result"
    }
   ],
   "source": [
    "dfTeamBoxUC4[dfTeamBoxUC4['turnovers'] != dfTeamBoxUC4['team_turnovers']][['turnovers', 'team_turnovers']]"
   ]
  },
  {
   "cell_type": "markdown",
   "id": "9c2dd25d-bfd3-47e8-b6d5-928092329f61",
   "metadata": {},
   "source": [
    "It appears that the columns points_game and points are not identical. The same applies for the opponent version of these columns. At first glance points_game and opp_points_game look to be like the correct values. A quick reality check by comparing these values to final scores found on the ESPN website confirms my guess. I will remove the points and opp_points column as they do not seem to have the accurate game scores. It appears that there is a simmilar phenomena for rebounds and turnovers, so I will remove these too."
   ]
  },
  {
   "cell_type": "code",
   "execution_count": 28,
   "id": "2e89afe8-5ecf-4176-9e05-0ac817ffd38f",
   "metadata": {},
   "outputs": [],
   "source": [
    "dfTeamBoxUC5 = dfTeamBoxUC4.drop(['points', 'opp_points', 'team_rebounds', \n",
    "                                  'opp_team_rebounds', 'team_turnovers', 'opp_team_turnovers'], axis=1)"
   ]
  },
  {
   "cell_type": "markdown",
   "id": "1157480d-e351-4c0c-ad9b-d6a1b5871841",
   "metadata": {},
   "source": [
    "#### Periods\n",
    "\n",
    "We can fill in the periods column by looking at how many minutes were played in the game and entering the corresponding number of periods."
   ]
  },
  {
   "cell_type": "code",
   "execution_count": 29,
   "id": "92a5ca1b-f919-47fb-bb34-25304397717c",
   "metadata": {},
   "outputs": [
    {
     "data": {
      "text/html": [
       "<div>\n",
       "<style scoped>\n",
       "    .dataframe tbody tr th:only-of-type {\n",
       "        vertical-align: middle;\n",
       "    }\n",
       "\n",
       "    .dataframe tbody tr th {\n",
       "        vertical-align: top;\n",
       "    }\n",
       "\n",
       "    .dataframe thead th {\n",
       "        text-align: right;\n",
       "    }\n",
       "</style>\n",
       "<table border=\"1\" class=\"dataframe\">\n",
       "  <thead>\n",
       "    <tr style=\"text-align: right;\">\n",
       "      <th></th>\n",
       "      <th>points_game</th>\n",
       "      <th>opp_points_game</th>\n",
       "      <th>win</th>\n",
       "      <th>minutes</th>\n",
       "      <th>opp_minutes</th>\n",
       "    </tr>\n",
       "  </thead>\n",
       "  <tbody>\n",
       "    <tr>\n",
       "      <th>42286</th>\n",
       "      <td>59</td>\n",
       "      <td>80</td>\n",
       "      <td>False</td>\n",
       "      <td>3:20:00</td>\n",
       "      <td>3:20:00</td>\n",
       "    </tr>\n",
       "    <tr>\n",
       "      <th>42287</th>\n",
       "      <td>80</td>\n",
       "      <td>59</td>\n",
       "      <td>True</td>\n",
       "      <td>3:20:00</td>\n",
       "      <td>3:20:00</td>\n",
       "    </tr>\n",
       "    <tr>\n",
       "      <th>42288</th>\n",
       "      <td>66</td>\n",
       "      <td>58</td>\n",
       "      <td>True</td>\n",
       "      <td>3:20:00</td>\n",
       "      <td>3:20:00</td>\n",
       "    </tr>\n",
       "    <tr>\n",
       "      <th>42289</th>\n",
       "      <td>58</td>\n",
       "      <td>66</td>\n",
       "      <td>False</td>\n",
       "      <td>3:20:00</td>\n",
       "      <td>3:20:00</td>\n",
       "    </tr>\n",
       "    <tr>\n",
       "      <th>42290</th>\n",
       "      <td>86</td>\n",
       "      <td>83</td>\n",
       "      <td>True</td>\n",
       "      <td>3:20:00</td>\n",
       "      <td>3:20:00</td>\n",
       "    </tr>\n",
       "    <tr>\n",
       "      <th>...</th>\n",
       "      <td>...</td>\n",
       "      <td>...</td>\n",
       "      <td>...</td>\n",
       "      <td>...</td>\n",
       "      <td>...</td>\n",
       "    </tr>\n",
       "    <tr>\n",
       "      <th>58555</th>\n",
       "      <td>69</td>\n",
       "      <td>64</td>\n",
       "      <td>True</td>\n",
       "      <td>3:20:00</td>\n",
       "      <td>3:20:00</td>\n",
       "    </tr>\n",
       "    <tr>\n",
       "      <th>58556</th>\n",
       "      <td>60</td>\n",
       "      <td>75</td>\n",
       "      <td>False</td>\n",
       "      <td>3:20:00</td>\n",
       "      <td>3:20:00</td>\n",
       "    </tr>\n",
       "    <tr>\n",
       "      <th>58557</th>\n",
       "      <td>75</td>\n",
       "      <td>60</td>\n",
       "      <td>True</td>\n",
       "      <td>3:20:00</td>\n",
       "      <td>3:20:00</td>\n",
       "    </tr>\n",
       "    <tr>\n",
       "      <th>58558</th>\n",
       "      <td>66</td>\n",
       "      <td>82</td>\n",
       "      <td>False</td>\n",
       "      <td>3:20:00</td>\n",
       "      <td>3:20:00</td>\n",
       "    </tr>\n",
       "    <tr>\n",
       "      <th>58559</th>\n",
       "      <td>82</td>\n",
       "      <td>66</td>\n",
       "      <td>True</td>\n",
       "      <td>3:20:00</td>\n",
       "      <td>3:20:00</td>\n",
       "    </tr>\n",
       "  </tbody>\n",
       "</table>\n",
       "<p>62 rows × 5 columns</p>\n",
       "</div>"
      ],
      "text/plain": [
       "       points_game  opp_points_game    win  minutes opp_minutes\n",
       "42286           59               80  False  3:20:00     3:20:00\n",
       "42287           80               59   True  3:20:00     3:20:00\n",
       "42288           66               58   True  3:20:00     3:20:00\n",
       "42289           58               66  False  3:20:00     3:20:00\n",
       "42290           86               83   True  3:20:00     3:20:00\n",
       "...            ...              ...    ...      ...         ...\n",
       "58555           69               64   True  3:20:00     3:20:00\n",
       "58556           60               75  False  3:20:00     3:20:00\n",
       "58557           75               60   True  3:20:00     3:20:00\n",
       "58558           66               82  False  3:20:00     3:20:00\n",
       "58559           82               66   True  3:20:00     3:20:00\n",
       "\n",
       "[62 rows x 5 columns]"
      ]
     },
     "execution_count": 29,
     "metadata": {},
     "output_type": "execute_result"
    }
   ],
   "source": [
    "dfTeamBoxUC5[dfTeamBoxUC5['periods'].isna()][['points_game', 'opp_points_game', 'win', 'minutes', 'opp_minutes']]"
   ]
  },
  {
   "cell_type": "markdown",
   "id": "c54d8e77-b3aa-487e-8d36-d119013677e7",
   "metadata": {},
   "source": [
    "3:20:00 seems to be the standard number of minutes in a game, which corresponds to 40 total minutes from 2 periods or halves. Any row with missing period and 3:20:00 in the minutes column can be set to 2."
   ]
  },
  {
   "cell_type": "code",
   "execution_count": 30,
   "id": "709ebc10-5d62-42f8-ab5e-e9e00d6dfd9a",
   "metadata": {},
   "outputs": [
    {
     "data": {
      "text/html": [
       "<div>\n",
       "<style scoped>\n",
       "    .dataframe tbody tr th:only-of-type {\n",
       "        vertical-align: middle;\n",
       "    }\n",
       "\n",
       "    .dataframe tbody tr th {\n",
       "        vertical-align: top;\n",
       "    }\n",
       "\n",
       "    .dataframe thead th {\n",
       "        text-align: right;\n",
       "    }\n",
       "</style>\n",
       "<table border=\"1\" class=\"dataframe\">\n",
       "  <thead>\n",
       "    <tr style=\"text-align: right;\">\n",
       "      <th></th>\n",
       "      <th>points_game</th>\n",
       "      <th>opp_points_game</th>\n",
       "      <th>win</th>\n",
       "      <th>minutes</th>\n",
       "      <th>opp_minutes</th>\n",
       "    </tr>\n",
       "  </thead>\n",
       "  <tbody>\n",
       "    <tr>\n",
       "      <th>42308</th>\n",
       "      <td>103</td>\n",
       "      <td>98</td>\n",
       "      <td>True</td>\n",
       "      <td>4:10:00</td>\n",
       "      <td>4:10:00</td>\n",
       "    </tr>\n",
       "    <tr>\n",
       "      <th>42309</th>\n",
       "      <td>98</td>\n",
       "      <td>103</td>\n",
       "      <td>False</td>\n",
       "      <td>4:10:00</td>\n",
       "      <td>4:10:00</td>\n",
       "    </tr>\n",
       "    <tr>\n",
       "      <th>42338</th>\n",
       "      <td>58</td>\n",
       "      <td>67</td>\n",
       "      <td>False</td>\n",
       "      <td>3:45:00</td>\n",
       "      <td>3:45:00</td>\n",
       "    </tr>\n",
       "    <tr>\n",
       "      <th>42339</th>\n",
       "      <td>67</td>\n",
       "      <td>58</td>\n",
       "      <td>True</td>\n",
       "      <td>3:45:00</td>\n",
       "      <td>3:45:00</td>\n",
       "    </tr>\n",
       "  </tbody>\n",
       "</table>\n",
       "</div>"
      ],
      "text/plain": [
       "       points_game  opp_points_game    win  minutes opp_minutes\n",
       "42308          103               98   True  4:10:00     4:10:00\n",
       "42309           98              103  False  4:10:00     4:10:00\n",
       "42338           58               67  False  3:45:00     3:45:00\n",
       "42339           67               58   True  3:45:00     3:45:00"
      ]
     },
     "execution_count": 30,
     "metadata": {},
     "output_type": "execute_result"
    }
   ],
   "source": [
    "missing_2_periods_rows_index = dfTeamBoxUC5[(dfTeamBoxUC5['periods'].isna()) & (dfTeamBoxUC5['minutes'] == '3:20:00')].index\n",
    "dfTeamBoxUC5.loc[missing_2_periods_rows_index, 'periods'] = 2\n",
    "dfTeamBoxUC5[dfTeamBoxUC5['periods'].isna()][['points_game', 'opp_points_game', 'win', 'minutes', 'opp_minutes']]"
   ]
  },
  {
   "cell_type": "markdown",
   "id": "2525a609-bd2b-43d3-900b-f3de0eee8ffe",
   "metadata": {},
   "source": [
    "There are still four rows with missing periods. After looking at the data I found these minutes correspond to 3 and 4 periods."
   ]
  },
  {
   "cell_type": "code",
   "execution_count": 31,
   "id": "a8de4670-8c18-414e-9fa6-ae61cb19550d",
   "metadata": {},
   "outputs": [
    {
     "data": {
      "text/html": [
       "<div>\n",
       "<style scoped>\n",
       "    .dataframe tbody tr th:only-of-type {\n",
       "        vertical-align: middle;\n",
       "    }\n",
       "\n",
       "    .dataframe tbody tr th {\n",
       "        vertical-align: top;\n",
       "    }\n",
       "\n",
       "    .dataframe thead th {\n",
       "        text-align: right;\n",
       "    }\n",
       "</style>\n",
       "<table border=\"1\" class=\"dataframe\">\n",
       "  <thead>\n",
       "    <tr style=\"text-align: right;\">\n",
       "      <th></th>\n",
       "      <th>points_game</th>\n",
       "      <th>opp_points_game</th>\n",
       "      <th>win</th>\n",
       "      <th>minutes</th>\n",
       "      <th>opp_minutes</th>\n",
       "    </tr>\n",
       "  </thead>\n",
       "  <tbody>\n",
       "  </tbody>\n",
       "</table>\n",
       "</div>"
      ],
      "text/plain": [
       "Empty DataFrame\n",
       "Columns: [points_game, opp_points_game, win, minutes, opp_minutes]\n",
       "Index: []"
      ]
     },
     "execution_count": 31,
     "metadata": {},
     "output_type": "execute_result"
    }
   ],
   "source": [
    "missing_3_periods_rows_index = dfTeamBoxUC5[(dfTeamBoxUC5['periods'].isna()) & (dfTeamBoxUC5['minutes'] == '3:45:00')].index\n",
    "dfTeamBoxUC5.loc[missing_3_periods_rows_index, 'periods'] = 3\n",
    "missing_4_periods_rows_index = dfTeamBoxUC5[(dfTeamBoxUC5['periods'].isna()) & (dfTeamBoxUC5['minutes'] == '4:10:00')].index\n",
    "dfTeamBoxUC5.loc[missing_4_periods_rows_index, 'periods'] = 4\n",
    "dfTeamBoxUC5[dfTeamBoxUC5['periods'].isna()][['points_game', 'opp_points_game', 'win', 'minutes', 'opp_minutes']]"
   ]
  },
  {
   "cell_type": "markdown",
   "id": "935ce7db-fab5-41f4-8928-75ffc686b735",
   "metadata": {},
   "source": [
    "Now we have all of the missing period data filled. At this point I also want to reformat the minutes column to be an integer number representing the number of minutes played instead of a string."
   ]
  },
  {
   "cell_type": "code",
   "execution_count": 32,
   "id": "3f59303b-0a7f-4e3d-9fa5-a298c147f944",
   "metadata": {},
   "outputs": [
    {
     "data": {
      "text/plain": [
       "array(['3:20:00', '3:45:00', '4:35:00', '4:10:00', '5:00:00'],\n",
       "      dtype=object)"
      ]
     },
     "execution_count": 32,
     "metadata": {},
     "output_type": "execute_result"
    }
   ],
   "source": [
    "dfTeamBoxUC5['minutes'].unique()"
   ]
  },
  {
   "cell_type": "markdown",
   "id": "de051571-4bff-4e6b-bd87-530a5eab4af3",
   "metadata": {},
   "source": [
    "These unique minute values correspond to 2, 3, 4, 5, and 6 periods being played. The first two periods in basketball are 20 minutes long and then the following periods are overtime periods which are each 5 minutes. Column values should be mapped in the following manner:\n",
    "\n",
    "3:20:00 -> 40,\n",
    "3:45:00 -> 45,\n",
    "4:35:00 -> 50,\n",
    "4:10:00 -> 55,\n",
    "5:00:00 -> 60"
   ]
  },
  {
   "cell_type": "code",
   "execution_count": 33,
   "id": "b1340bcc-59f9-455b-9490-bee9723154ee",
   "metadata": {},
   "outputs": [
    {
     "data": {
      "text/plain": [
       "array([40, 45, 55, 50, 60])"
      ]
     },
     "execution_count": 33,
     "metadata": {},
     "output_type": "execute_result"
    }
   ],
   "source": [
    "# reformat minutes column\n",
    "dfTeamBoxUC5.loc[dfTeamBoxUC5['minutes'] == '3:20:00', 'minutes'] = 40\n",
    "dfTeamBoxUC5.loc[dfTeamBoxUC5['minutes'] == '3:45:00', 'minutes'] = 45\n",
    "dfTeamBoxUC5.loc[dfTeamBoxUC5['minutes'] == '4:10:00', 'minutes'] = 50\n",
    "dfTeamBoxUC5.loc[dfTeamBoxUC5['minutes'] == '4:35:00', 'minutes'] = 55\n",
    "dfTeamBoxUC5.loc[dfTeamBoxUC5['minutes'] == '5:00:00', 'minutes'] = 60\n",
    "dfTeamBoxUC5['minutes'] = dfTeamBoxUC5['minutes'].astype(int)\n",
    "dfTeamBoxUC5['minutes'].unique()"
   ]
  },
  {
   "cell_type": "markdown",
   "id": "4826e706-991a-4554-891b-d7b5346c85de",
   "metadata": {},
   "source": [
    "We can also drop the opp_minutes column as it is the same as the minutes column."
   ]
  },
  {
   "cell_type": "code",
   "execution_count": 34,
   "id": "758c42c4-ac43-48ef-aeef-fb026cce25fc",
   "metadata": {},
   "outputs": [],
   "source": [
    "dfTeamBoxUC5.drop('opp_minutes', axis=1, inplace=True)"
   ]
  },
  {
   "cell_type": "markdown",
   "id": "88b19c45-fe76-4441-afb4-62ec830a86e0",
   "metadata": {},
   "source": [
    "#### conf_id and opp_conf_id\n",
    "\n",
    "At first I thought these values could be filled by getting the conference id of the game's teams from the team dataframe.\n",
    "\n",
    "However, as I looked at the data I found that some of the games recorded have teams that are not in the teams dataframe. This could include games where D1 teams play lower division teams.\n",
    "\n",
    "At this point I will get rid of any games that include teams not in our team dataframe and then see what data is still missing."
   ]
  },
  {
   "cell_type": "code",
   "execution_count": 35,
   "id": "2daa9019-80c5-458b-be1d-34c5a79eeaf7",
   "metadata": {},
   "outputs": [
    {
     "data": {
      "text/plain": [
       "3580"
      ]
     },
     "execution_count": 35,
     "metadata": {},
     "output_type": "execute_result"
    }
   ],
   "source": [
    "len(dfTeamBoxUC5[(~dfTeamBoxUC5['team_id'].isin(dfTeams['id'])) | (~dfTeamBoxUC5['opp_id'].isin(dfTeams['id']))])"
   ]
  },
  {
   "cell_type": "markdown",
   "id": "4a323c15-46c9-43ce-b423-34d4766c0696",
   "metadata": {},
   "source": [
    "There are 3,580 games that include teams not in our teams dataframe. Let's remove them."
   ]
  },
  {
   "cell_type": "code",
   "execution_count": 36,
   "id": "1432d80c-05de-4319-9415-1a56cc73d7f1",
   "metadata": {},
   "outputs": [],
   "source": [
    "dfTeamBoxUC6 = dfTeamBoxUC5[(dfTeamBoxUC5['team_id'].isin(dfTeams['id'])) & (dfTeamBoxUC5['opp_id'].isin(dfTeams['id']))]"
   ]
  },
  {
   "cell_type": "code",
   "execution_count": 37,
   "id": "0919fa77-f442-4b87-a213-d92e83c68cc0",
   "metadata": {},
   "outputs": [
    {
     "data": {
      "text/plain": [
       "venue_capacity               224\n",
       "points_off_turnovers         519\n",
       "opp_points_off_turnovers     519\n",
       "lead_changes                 526\n",
       "second_chance_pts            542\n",
       "opp_second_chance_pts        542\n",
       "times_tied                   572\n",
       "fast_break_pts              2042\n",
       "opp_fast_break_pts          2042\n",
       "attendance                  2378\n",
       "dtype: int64"
      ]
     },
     "execution_count": 37,
     "metadata": {},
     "output_type": "execute_result"
    }
   ],
   "source": [
    "dfTeamBoxUC6.isna().sum()[lambda x: x > 0].sort_values(ascending=True)"
   ]
  },
  {
   "cell_type": "markdown",
   "id": "59692b27-e5fa-4050-abee-1fe35bf734e9",
   "metadata": {},
   "source": [
    "Removing those games also got rid of our rows with missing conference data.\n",
    "\n",
    "For the remaining missing data columns, except lead_changes, times_tied, and attendance, I am going to fill the missing values with the average value for the statistics corresponding team."
   ]
  },
  {
   "cell_type": "markdown",
   "id": "47e73936-a0f9-4acf-967f-3287d191ad48",
   "metadata": {},
   "source": [
    "#### fast_break_pts, second_chance_pts, points_off_turnovers"
   ]
  },
  {
   "cell_type": "code",
   "execution_count": 38,
   "id": "0d99f3b4-69a7-4816-a77f-54ada84a743b",
   "metadata": {},
   "outputs": [],
   "source": [
    "for col in ['fast_break_pts', 'second_chance_pts', 'points_off_turnovers']:\n",
    "    avg_team_stat = dfTeamBoxUC6.groupby('team_id')[col].mean().round()\n",
    "    # fill in team state\n",
    "    for team_id, avg in avg_team_stat.items():\n",
    "        dfTeamBoxUC6.loc[dfTeamBoxUC6['team_id'] == team_id, col] = dfTeamBoxUC6.loc[dfTeamBoxUC6['team_id'] == team_id, col].fillna(avg)\n",
    "    # fill in opp team state\n",
    "    for team_id, avg in avg_team_stat.items():\n",
    "        dfTeamBoxUC6.loc[dfTeamBoxUC6['opp_id'] == team_id, 'opp_' + col] = dfTeamBoxUC6.loc[dfTeamBoxUC6['opp_id'] == team_id, 'opp_' + col].fillna(avg)"
   ]
  },
  {
   "cell_type": "markdown",
   "id": "15d42b6b-7278-4c2c-8fec-d31da818cb89",
   "metadata": {},
   "source": [
    "#### attendance and venue_capacity\n",
    "\n",
    "First, I will get rid of any rows where both attendance and venue capacity are empty. Then, I will fill venue capacity and attendance using the average percentage attendance of all games."
   ]
  },
  {
   "cell_type": "code",
   "execution_count": 39,
   "id": "4a8fb782-a0d2-480b-83f4-bb3995e69f19",
   "metadata": {},
   "outputs": [],
   "source": [
    "dfTeamBoxUC7 = dfTeamBoxUC6[(~dfTeamBoxUC6['attendance'].isna()) | (~dfTeamBoxUC6['venue_capacity'].isna())]"
   ]
  },
  {
   "cell_type": "code",
   "execution_count": 40,
   "id": "8ad8cdd5-fe9e-4ea3-8cd6-c1f024600ad4",
   "metadata": {},
   "outputs": [],
   "source": [
    "avg_percent_attendance = (dfTeamBoxUC7['attendance'] / dfTeamBoxUC7['venue_capacity']).mean()\n",
    "dfTeamBoxUC7.loc[dfTeamBoxUC7['attendance'].isna(), 'attendance'] = (dfTeamBoxUC7.loc[dfTeamBoxUC7['attendance'].isna(), 'venue_capacity'] * avg_percent_attendance).round()\n",
    "dfTeamBoxUC7.loc[dfTeamBoxUC7['venue_capacity'].isna(), 'venue_capacity'] = (dfTeamBoxUC7.loc[dfTeamBoxUC7['venue_capacity'].isna(), 'attendance'] * (1/ avg_percent_attendance)).round()"
   ]
  },
  {
   "cell_type": "markdown",
   "id": "1700a9ca-68c7-4d43-9fad-50ef38016e90",
   "metadata": {},
   "source": [
    "#### lead_changes and times_tied\n",
    "\n",
    "lead_changes and times_tied will be filled in with the average lead changes and times tied of one of the teams in each game."
   ]
  },
  {
   "cell_type": "code",
   "execution_count": 41,
   "id": "67eca9dd-d8e6-47bb-b75d-78ea8076b094",
   "metadata": {},
   "outputs": [],
   "source": [
    "avg_lead_changes = dfTeamBoxUC7.groupby('team_id')['lead_changes'].mean().round()\n",
    "avg_times_tied = dfTeamBoxUC7.groupby('team_id')['times_tied'].mean()\n",
    "# fill lead changes\n",
    "for game_id in dfTeamBoxUC7[dfTeamBoxUC7['lead_changes'].isna()]['game_id'].unique():\n",
    "    find_condition = (dfTeamBoxUC7['lead_changes'].isna()) & (dfTeamBoxUC7['game_id'] == game_id)\n",
    "    dfTeamBoxUC7.loc[find_condition, 'lead_changes'] = avg_lead_changes[dfTeamBoxUC7.loc[find_condition, 'team_id'].values[0]]\n",
    "# fill times tied\n",
    "for game_id in dfTeamBoxUC7[dfTeamBoxUC7['times_tied'].isna()]['game_id'].unique():\n",
    "    find_condition = (dfTeamBoxUC7['times_tied'].isna()) & (dfTeamBoxUC7['game_id'] == game_id)\n",
    "    dfTeamBoxUC7.loc[find_condition, 'times_tied'] = avg_times_tied[dfTeamBoxUC7.loc[find_condition, 'team_id'].values[0]]"
   ]
  },
  {
   "cell_type": "code",
   "execution_count": 42,
   "id": "94e5c19f-9771-4c81-8752-faa9c9ac6872",
   "metadata": {},
   "outputs": [
    {
     "data": {
      "text/plain": [
       "Series([], dtype: int64)"
      ]
     },
     "execution_count": 42,
     "metadata": {},
     "output_type": "execute_result"
    }
   ],
   "source": [
    "dfTeamBoxUC7.isna().sum()[lambda x: x > 0].sort_values(ascending=True)"
   ]
  },
  {
   "cell_type": "markdown",
   "id": "0865ff08-1603-4708-8112-fe88b4494a8b",
   "metadata": {},
   "source": [
    "As you can see there are no more missing values. The team box score data has been effectively cleaned. "
   ]
  },
  {
   "cell_type": "code",
   "execution_count": 43,
   "id": "54ec86ca-051e-496f-abd9-62430362b32f",
   "metadata": {},
   "outputs": [
    {
     "data": {
      "text/plain": [
       "Index(['game_id', 'season', 'attendance', 'lead_changes', 'times_tied',\n",
       "       'periods', 'venue_capacity', 'home_team', 'team_id', 'conf_id',\n",
       "       'opp_id', 'opp_conf_id', 'win', 'points_game', 'minutes',\n",
       "       'field_goals_made', 'field_goals_att', 'field_goals_pct',\n",
       "       'three_points_made', 'three_points_att', 'three_points_pct',\n",
       "       'two_points_made', 'two_points_att', 'two_points_pct', 'blocked_att',\n",
       "       'free_throws_made', 'free_throws_att', 'free_throws_pct',\n",
       "       'offensive_rebounds', 'defensive_rebounds', 'rebounds', 'assists',\n",
       "       'turnovers', 'steals', 'blocks', 'assists_turnover_ratio',\n",
       "       'personal_fouls', 'fast_break_pts', 'second_chance_pts',\n",
       "       'points_off_turnovers', 'flagrant_fouls', 'player_tech_fouls',\n",
       "       'opp_points_game', 'opp_field_goals_made', 'opp_field_goals_att',\n",
       "       'opp_field_goals_pct', 'opp_three_points_made', 'opp_three_points_att',\n",
       "       'opp_three_points_pct', 'opp_two_points_made', 'opp_two_points_att',\n",
       "       'opp_two_points_pct', 'opp_blocked_att', 'opp_free_throws_made',\n",
       "       'opp_free_throws_att', 'opp_free_throws_pct', 'opp_offensive_rebounds',\n",
       "       'opp_defensive_rebounds', 'opp_rebounds', 'opp_assists',\n",
       "       'opp_turnovers', 'opp_steals', 'opp_blocks',\n",
       "       'opp_assists_turnover_ratio', 'opp_personal_fouls',\n",
       "       'opp_fast_break_pts', 'opp_second_chance_pts',\n",
       "       'opp_points_off_turnovers', 'opp_flagrant_fouls',\n",
       "       'opp_player_tech_fouls'],\n",
       "      dtype='object')"
      ]
     },
     "execution_count": 43,
     "metadata": {},
     "output_type": "execute_result"
    }
   ],
   "source": [
    "dfTeamBoxUC7.columns"
   ]
  },
  {
   "cell_type": "code",
   "execution_count": 44,
   "id": "8234b31f-4a38-4f66-9f47-405278b32237",
   "metadata": {},
   "outputs": [],
   "source": [
    "dfTeamBox = dfTeamBoxUC7.copy()"
   ]
  },
  {
   "cell_type": "code",
   "execution_count": 45,
   "id": "2ea88c18-71e2-4c3f-8332-c9f2c338a347",
   "metadata": {},
   "outputs": [],
   "source": [
    "dfTeamBox.reset_index(drop=True, inplace=True)"
   ]
  },
  {
   "cell_type": "code",
   "execution_count": 46,
   "id": "82b3f711-ea7b-478e-820e-96d798368837",
   "metadata": {},
   "outputs": [],
   "source": [
    "dfTeamBox.to_csv('team_box_scores_clean.csv', index=False)"
   ]
  },
  {
   "cell_type": "markdown",
   "id": "43ff9aa9-aa29-4957-9734-04cdfdb40893",
   "metadata": {},
   "source": [
    "### player_box_scores.csv\n",
    "\n",
    "The player_box_scores.csv data is going to be used to cluster players and possibly teams."
   ]
  },
  {
   "cell_type": "code",
   "execution_count": 47,
   "id": "2bc5b42a-4997-4e2e-b86f-f1bff21d0b3e",
   "metadata": {},
   "outputs": [
    {
     "name": "stderr",
     "output_type": "stream",
     "text": [
      "/var/folders/5s/_hqjmj3d7xgb3w8_skgs580r0000gn/T/ipykernel_1715/1831043014.py:2: DtypeWarning: Columns (21,22,39) have mixed types. Specify dtype option on import or set low_memory=False.\n",
      "  dfPlayerBoxUC = pd.read_csv('player_box_scores.csv')\n"
     ]
    },
    {
     "data": {
      "text/html": [
       "<div>\n",
       "<style scoped>\n",
       "    .dataframe tbody tr th:only-of-type {\n",
       "        vertical-align: middle;\n",
       "    }\n",
       "\n",
       "    .dataframe tbody tr th {\n",
       "        vertical-align: top;\n",
       "    }\n",
       "\n",
       "    .dataframe thead th {\n",
       "        text-align: right;\n",
       "    }\n",
       "</style>\n",
       "<table border=\"1\" class=\"dataframe\">\n",
       "  <thead>\n",
       "    <tr style=\"text-align: right;\">\n",
       "      <th></th>\n",
       "      <th>game_id</th>\n",
       "      <th>season</th>\n",
       "      <th>neutral_site</th>\n",
       "      <th>scheduled_date</th>\n",
       "      <th>gametime</th>\n",
       "      <th>tournament</th>\n",
       "      <th>tournament_type</th>\n",
       "      <th>tournament_round</th>\n",
       "      <th>tournament_game_no</th>\n",
       "      <th>player_id</th>\n",
       "      <th>...</th>\n",
       "      <th>assists</th>\n",
       "      <th>turnovers</th>\n",
       "      <th>steals</th>\n",
       "      <th>blocks</th>\n",
       "      <th>assists_turnover_ratio</th>\n",
       "      <th>personal_fouls</th>\n",
       "      <th>tech_fouls</th>\n",
       "      <th>flagrant_fouls</th>\n",
       "      <th>points</th>\n",
       "      <th>sp_created</th>\n",
       "    </tr>\n",
       "  </thead>\n",
       "  <tbody>\n",
       "    <tr>\n",
       "      <th>0</th>\n",
       "      <td>14ab9c26-b586-4f68-8989-f433bb3a3e7f</td>\n",
       "      <td>2017</td>\n",
       "      <td>False</td>\n",
       "      <td>2017-11-22</td>\n",
       "      <td>2017-11-22 00:00:00 UTC</td>\n",
       "      <td>NaN</td>\n",
       "      <td>NaN</td>\n",
       "      <td>NaN</td>\n",
       "      <td>NaN</td>\n",
       "      <td>b8df0122-7f1e-4189-a47b-1e08050bf6c6</td>\n",
       "      <td>...</td>\n",
       "      <td>NaN</td>\n",
       "      <td>NaN</td>\n",
       "      <td>NaN</td>\n",
       "      <td>NaN</td>\n",
       "      <td>NaN</td>\n",
       "      <td>NaN</td>\n",
       "      <td>NaN</td>\n",
       "      <td>NaN</td>\n",
       "      <td>NaN</td>\n",
       "      <td>2018-02-20 13:03:24 UTC</td>\n",
       "    </tr>\n",
       "    <tr>\n",
       "      <th>1</th>\n",
       "      <td>64667cdd-9379-4ecc-877a-3fb4d76fbff2</td>\n",
       "      <td>2017</td>\n",
       "      <td>False</td>\n",
       "      <td>2017-12-19</td>\n",
       "      <td>2017-12-19 01:00:00 UTC</td>\n",
       "      <td>NaN</td>\n",
       "      <td>NaN</td>\n",
       "      <td>NaN</td>\n",
       "      <td>NaN</td>\n",
       "      <td>2036297a-f0e1-4d65-8cc2-94d3d4de314f</td>\n",
       "      <td>...</td>\n",
       "      <td>NaN</td>\n",
       "      <td>NaN</td>\n",
       "      <td>NaN</td>\n",
       "      <td>NaN</td>\n",
       "      <td>NaN</td>\n",
       "      <td>NaN</td>\n",
       "      <td>NaN</td>\n",
       "      <td>NaN</td>\n",
       "      <td>NaN</td>\n",
       "      <td>2018-02-20 13:03:27 UTC</td>\n",
       "    </tr>\n",
       "    <tr>\n",
       "      <th>2</th>\n",
       "      <td>fcc2decd-b14f-4fed-8a78-8856c6689c74</td>\n",
       "      <td>2017</td>\n",
       "      <td>False</td>\n",
       "      <td>2017-11-12</td>\n",
       "      <td>2017-11-12 18:00:00 UTC</td>\n",
       "      <td>NaN</td>\n",
       "      <td>NaN</td>\n",
       "      <td>NaN</td>\n",
       "      <td>NaN</td>\n",
       "      <td>c367fd91-183a-4d7d-9307-b8a289cb7bc9</td>\n",
       "      <td>...</td>\n",
       "      <td>NaN</td>\n",
       "      <td>NaN</td>\n",
       "      <td>NaN</td>\n",
       "      <td>NaN</td>\n",
       "      <td>NaN</td>\n",
       "      <td>NaN</td>\n",
       "      <td>NaN</td>\n",
       "      <td>NaN</td>\n",
       "      <td>NaN</td>\n",
       "      <td>2018-02-20 13:03:23 UTC</td>\n",
       "    </tr>\n",
       "    <tr>\n",
       "      <th>3</th>\n",
       "      <td>7cda8dca-e87b-4b4e-9eed-68cfba948957</td>\n",
       "      <td>2017</td>\n",
       "      <td>False</td>\n",
       "      <td>2017-11-26</td>\n",
       "      <td>2017-11-26 21:30:00 UTC</td>\n",
       "      <td>NaN</td>\n",
       "      <td>NaN</td>\n",
       "      <td>NaN</td>\n",
       "      <td>NaN</td>\n",
       "      <td>0ca3800d-fb89-4151-90c0-a3e03835fd04</td>\n",
       "      <td>...</td>\n",
       "      <td>NaN</td>\n",
       "      <td>NaN</td>\n",
       "      <td>NaN</td>\n",
       "      <td>NaN</td>\n",
       "      <td>NaN</td>\n",
       "      <td>NaN</td>\n",
       "      <td>NaN</td>\n",
       "      <td>NaN</td>\n",
       "      <td>NaN</td>\n",
       "      <td>2018-02-20 13:03:26 UTC</td>\n",
       "    </tr>\n",
       "    <tr>\n",
       "      <th>4</th>\n",
       "      <td>b3b15b00-c5a6-4239-9c99-713ebe01b8c7</td>\n",
       "      <td>2017</td>\n",
       "      <td>False</td>\n",
       "      <td>2018-01-24</td>\n",
       "      <td>2018-01-24 01:00:00 UTC</td>\n",
       "      <td>NaN</td>\n",
       "      <td>NaN</td>\n",
       "      <td>NaN</td>\n",
       "      <td>NaN</td>\n",
       "      <td>269dc916-2208-40e2-a5ee-062a38a3a00d</td>\n",
       "      <td>...</td>\n",
       "      <td>NaN</td>\n",
       "      <td>NaN</td>\n",
       "      <td>NaN</td>\n",
       "      <td>NaN</td>\n",
       "      <td>NaN</td>\n",
       "      <td>NaN</td>\n",
       "      <td>NaN</td>\n",
       "      <td>NaN</td>\n",
       "      <td>NaN</td>\n",
       "      <td>2018-02-20 13:03:21 UTC</td>\n",
       "    </tr>\n",
       "  </tbody>\n",
       "</table>\n",
       "<p>5 rows × 66 columns</p>\n",
       "</div>"
      ],
      "text/plain": [
       "                                game_id  season neutral_site scheduled_date  \\\n",
       "0  14ab9c26-b586-4f68-8989-f433bb3a3e7f    2017        False     2017-11-22   \n",
       "1  64667cdd-9379-4ecc-877a-3fb4d76fbff2    2017        False     2017-12-19   \n",
       "2  fcc2decd-b14f-4fed-8a78-8856c6689c74    2017        False     2017-11-12   \n",
       "3  7cda8dca-e87b-4b4e-9eed-68cfba948957    2017        False     2017-11-26   \n",
       "4  b3b15b00-c5a6-4239-9c99-713ebe01b8c7    2017        False     2018-01-24   \n",
       "\n",
       "                  gametime tournament tournament_type tournament_round  \\\n",
       "0  2017-11-22 00:00:00 UTC        NaN             NaN              NaN   \n",
       "1  2017-12-19 01:00:00 UTC        NaN             NaN              NaN   \n",
       "2  2017-11-12 18:00:00 UTC        NaN             NaN              NaN   \n",
       "3  2017-11-26 21:30:00 UTC        NaN             NaN              NaN   \n",
       "4  2018-01-24 01:00:00 UTC        NaN             NaN              NaN   \n",
       "\n",
       "  tournament_game_no                             player_id  ... assists  \\\n",
       "0                NaN  b8df0122-7f1e-4189-a47b-1e08050bf6c6  ...     NaN   \n",
       "1                NaN  2036297a-f0e1-4d65-8cc2-94d3d4de314f  ...     NaN   \n",
       "2                NaN  c367fd91-183a-4d7d-9307-b8a289cb7bc9  ...     NaN   \n",
       "3                NaN  0ca3800d-fb89-4151-90c0-a3e03835fd04  ...     NaN   \n",
       "4                NaN  269dc916-2208-40e2-a5ee-062a38a3a00d  ...     NaN   \n",
       "\n",
       "  turnovers steals blocks assists_turnover_ratio  personal_fouls  tech_fouls  \\\n",
       "0       NaN    NaN    NaN                    NaN             NaN         NaN   \n",
       "1       NaN    NaN    NaN                    NaN             NaN         NaN   \n",
       "2       NaN    NaN    NaN                    NaN             NaN         NaN   \n",
       "3       NaN    NaN    NaN                    NaN             NaN         NaN   \n",
       "4       NaN    NaN    NaN                    NaN             NaN         NaN   \n",
       "\n",
       "   flagrant_fouls points               sp_created  \n",
       "0             NaN    NaN  2018-02-20 13:03:24 UTC  \n",
       "1             NaN    NaN  2018-02-20 13:03:27 UTC  \n",
       "2             NaN    NaN  2018-02-20 13:03:23 UTC  \n",
       "3             NaN    NaN  2018-02-20 13:03:26 UTC  \n",
       "4             NaN    NaN  2018-02-20 13:03:21 UTC  \n",
       "\n",
       "[5 rows x 66 columns]"
      ]
     },
     "execution_count": 47,
     "metadata": {},
     "output_type": "execute_result"
    }
   ],
   "source": [
    "# load the data\n",
    "dfPlayerBoxUC = pd.read_csv('player_box_scores.csv')\n",
    "dfPlayerBoxUC.head()"
   ]
  },
  {
   "cell_type": "code",
   "execution_count": 48,
   "id": "69c03c10-fed9-4b19-9740-48b063063e53",
   "metadata": {},
   "outputs": [
    {
     "data": {
      "text/plain": [
       "Index(['game_id', 'season', 'neutral_site', 'scheduled_date', 'gametime',\n",
       "       'tournament', 'tournament_type', 'tournament_round',\n",
       "       'tournament_game_no', 'player_id', 'last_name', 'first_name',\n",
       "       'full_name', 'abbr_name', 'status', 'jersey_number', 'height', 'weight',\n",
       "       'birth_place', 'birthplace_city', 'birthplace_state',\n",
       "       'birthplace_country', 'class', 'team_name', 'team_market', 'team_id',\n",
       "       'team_alias', 'conf_name', 'conf_alias', 'division_name',\n",
       "       'division_alias', 'league_name', 'home_team', 'active', 'played',\n",
       "       'starter', 'minutes', 'minutes_int64', 'position', 'primary_position',\n",
       "       'field_goals_made', 'field_goals_att', 'field_goals_pct',\n",
       "       'three_points_made', 'three_points_att', 'three_points_pct',\n",
       "       'two_points_made', 'two_points_att', 'two_points_pct', 'blocked_att',\n",
       "       'free_throws_made', 'free_throws_att', 'free_throws_pct',\n",
       "       'offensive_rebounds', 'defensive_rebounds', 'rebounds', 'assists',\n",
       "       'turnovers', 'steals', 'blocks', 'assists_turnover_ratio',\n",
       "       'personal_fouls', 'tech_fouls', 'flagrant_fouls', 'points',\n",
       "       'sp_created'],\n",
       "      dtype='object')"
      ]
     },
     "execution_count": 48,
     "metadata": {},
     "output_type": "execute_result"
    }
   ],
   "source": [
    "# list all of the columns\n",
    "dfPlayerBoxUC.columns"
   ]
  },
  {
   "cell_type": "markdown",
   "id": "80353a39-8235-4cd5-9205-ffa35c7216f8",
   "metadata": {},
   "source": [
    "Based on the clustering we will be doing, the following columns will not be useful and can be removed:\n",
    "'neutral_site', 'scheduled_date', 'gametime',\n",
    "       'tournament', 'tournament_type', 'tournament_round',\n",
    "       'tournament_game_no', 'last_name', 'first_name',\n",
    "       'abbr_name', 'status', 'jersey_number', 'birth_place', 'birthplace_city', \n",
    "       'birthplace_country', 'team_name', 'team_market',\n",
    "       'team_alias', 'conf_name', 'conf_alias', 'division_name',\n",
    "       'division_alias', 'league_name', 'minutes', 'primary_position',\n",
    "       'sp_created'"
   ]
  },
  {
   "cell_type": "code",
   "execution_count": 49,
   "id": "2580db25-1d70-4acf-bee6-35395e0ddaba",
   "metadata": {},
   "outputs": [],
   "source": [
    "dfPlayerBoxUC1 = dfPlayerBoxUC.drop(['neutral_site', 'scheduled_date', 'gametime',\n",
    "       'tournament', 'tournament_type', 'tournament_round',\n",
    "       'tournament_game_no', 'last_name', 'first_name',\n",
    "       'abbr_name', 'status', 'jersey_number', 'birth_place', 'birthplace_city', \n",
    "       'birthplace_country', 'team_name', 'team_market',\n",
    "       'team_alias', 'conf_name', 'conf_alias', 'division_name',\n",
    "       'division_alias', 'league_name', 'minutes', 'primary_position',\n",
    "       'sp_created'], axis=1)"
   ]
  },
  {
   "cell_type": "code",
   "execution_count": 50,
   "id": "1f12a4d8-3f54-4909-bae9-7d9e6495ebee",
   "metadata": {},
   "outputs": [
    {
     "data": {
      "text/plain": [
       "Index(['game_id', 'season', 'player_id', 'full_name', 'height', 'weight',\n",
       "       'birthplace_state', 'class', 'team_id', 'home_team', 'active', 'played',\n",
       "       'starter', 'minutes_int64', 'position', 'field_goals_made',\n",
       "       'field_goals_att', 'field_goals_pct', 'three_points_made',\n",
       "       'three_points_att', 'three_points_pct', 'two_points_made',\n",
       "       'two_points_att', 'two_points_pct', 'blocked_att', 'free_throws_made',\n",
       "       'free_throws_att', 'free_throws_pct', 'offensive_rebounds',\n",
       "       'defensive_rebounds', 'rebounds', 'assists', 'turnovers', 'steals',\n",
       "       'blocks', 'assists_turnover_ratio', 'personal_fouls', 'tech_fouls',\n",
       "       'flagrant_fouls', 'points'],\n",
       "      dtype='object')"
      ]
     },
     "execution_count": 50,
     "metadata": {},
     "output_type": "execute_result"
    }
   ],
   "source": [
    "# remaining columns\n",
    "dfPlayerBoxUC1.columns"
   ]
  },
  {
   "cell_type": "markdown",
   "id": "95d38395-e3f7-4beb-b1c7-84101a6085bf",
   "metadata": {},
   "source": [
    "Before we look at what data is missing, let's remove any box score data from games that aren't in are final cleaned dfTeamBox dataset."
   ]
  },
  {
   "cell_type": "code",
   "execution_count": 51,
   "id": "9bf18871-515a-47a2-8da6-e578781df440",
   "metadata": {},
   "outputs": [],
   "source": [
    "dfPlayerBoxUC2 = dfPlayerBoxUC1[dfPlayerBoxUC1['game_id'].isin(dfTeamBox['game_id'].unique())]"
   ]
  },
  {
   "cell_type": "markdown",
   "id": "88dbe2de-215a-41ef-a1e1-4cc1a304040b",
   "metadata": {},
   "source": [
    "Now lets handle the missing data"
   ]
  },
  {
   "cell_type": "code",
   "execution_count": 52,
   "id": "886683dd-9616-4e6a-a6c8-56ea3e7e2ab8",
   "metadata": {},
   "outputs": [
    {
     "data": {
      "text/plain": [
       "height                       433\n",
       "weight                       433\n",
       "position                     639\n",
       "birthplace_state           68936\n",
       "assists_turnover_ratio    128864\n",
       "rebounds                  128864\n",
       "free_throws_pct           128864\n",
       "two_points_pct            128864\n",
       "field_goals_pct           128864\n",
       "three_points_pct          128864\n",
       "two_points_made           128866\n",
       "two_points_att            128869\n",
       "points                    132519\n",
       "offensive_rebounds        132525\n",
       "assists                   132560\n",
       "blocks                    132826\n",
       "personal_fouls            132829\n",
       "field_goals_att           132831\n",
       "defensive_rebounds        132831\n",
       "three_points_att          132831\n",
       "steals                    132831\n",
       "turnovers                 132833\n",
       "free_throws_att           132839\n",
       "free_throws_made          132840\n",
       "three_points_made         132841\n",
       "field_goals_made          132905\n",
       "minutes_int64             179774\n",
       "tech_fouls                197287\n",
       "blocked_att               393860\n",
       "flagrant_fouls            393889\n",
       "class                     562108\n",
       "dtype: int64"
      ]
     },
     "execution_count": 52,
     "metadata": {},
     "output_type": "execute_result"
    }
   ],
   "source": [
    "dfPlayerBoxUC2.isna().sum()[lambda x: x > 0].sort_values(ascending=True)"
   ]
  },
  {
   "cell_type": "markdown",
   "id": "f05363f9-5562-4486-9700-fdff668855ac",
   "metadata": {},
   "source": [
    "It looks like there are some rows that have missing data in a lot of columns, let's try and get rid of those first."
   ]
  },
  {
   "cell_type": "code",
   "execution_count": 53,
   "id": "ab8e4986-6ddb-4974-88d9-86b6de763f14",
   "metadata": {},
   "outputs": [],
   "source": [
    "dfPlayerBoxUC3 = dfPlayerBoxUC2.dropna(subset=['field_goals_made'])"
   ]
  },
  {
   "cell_type": "code",
   "execution_count": 54,
   "id": "05a66c86-0d91-4de5-ad15-a81c7a67932c",
   "metadata": {},
   "outputs": [
    {
     "data": {
      "text/plain": [
       "two_points_made            2\n",
       "two_points_att             5\n",
       "field_goals_att           20\n",
       "three_points_att          20\n",
       "three_points_made         21\n",
       "free_throws_att           22\n",
       "blocks                    23\n",
       "assists                   23\n",
       "free_throws_made          23\n",
       "offensive_rebounds        23\n",
       "points                    25\n",
       "steals                    25\n",
       "personal_fouls            28\n",
       "turnovers                 28\n",
       "defensive_rebounds        34\n",
       "height                   331\n",
       "weight                   331\n",
       "position                 389\n",
       "minutes_int64          49712\n",
       "birthplace_state       56497\n",
       "tech_fouls             64475\n",
       "blocked_att           260955\n",
       "flagrant_fouls        260984\n",
       "class                 463925\n",
       "dtype: int64"
      ]
     },
     "execution_count": 54,
     "metadata": {},
     "output_type": "execute_result"
    }
   ],
   "source": [
    "dfPlayerBoxUC3.isna().sum()[lambda x: x > 0].sort_values(ascending=True)"
   ]
  },
  {
   "cell_type": "markdown",
   "id": "ae479674-3831-4024-8dfb-e8630a8adf0f",
   "metadata": {},
   "source": [
    "For the missing values in columns up to height, let's fill the columns with the player's average"
   ]
  },
  {
   "cell_type": "code",
   "execution_count": 55,
   "id": "90cf2c36-21a6-4b0c-bf77-fdece415a6a8",
   "metadata": {},
   "outputs": [],
   "source": [
    "for col in ['two_points_made', 'two_points_att', 'field_goals_att', 'three_points_att', 'three_points_made', \n",
    "'free_throws_att', 'blocks', 'assists', 'free_throws_made', 'offensive_rebounds', 'points', \n",
    "'steals', 'personal_fouls', 'turnovers', 'defensive_rebounds']:\n",
    "    avg_player_stats = dfPlayerBoxUC3.groupby('player_id')[col].mean().round()\n",
    "    players_to_fill = dfPlayerBoxUC3[dfPlayerBoxUC3[col].isna()]['player_id'].unique()\n",
    "    # fill in player stat\n",
    "    for player_id in players_to_fill:\n",
    "        avg = avg_player_stats[player_id]\n",
    "        dfPlayerBoxUC3.loc[dfPlayerBoxUC3['player_id'] == player_id, col] = dfPlayerBoxUC3.loc[dfPlayerBoxUC3['player_id'] == player_id, col].fillna(avg)"
   ]
  },
  {
   "cell_type": "code",
   "execution_count": 56,
   "id": "8e2e964d-61ed-4666-af11-cb4f433bbf70",
   "metadata": {},
   "outputs": [
    {
     "data": {
      "text/plain": [
       "two_points_att           1\n",
       "height                 331\n",
       "weight                 331\n",
       "position               389\n",
       "minutes_int64        49712\n",
       "birthplace_state     56497\n",
       "tech_fouls           64475\n",
       "blocked_att         260955\n",
       "flagrant_fouls      260984\n",
       "class               463925\n",
       "dtype: int64"
      ]
     },
     "execution_count": 56,
     "metadata": {},
     "output_type": "execute_result"
    }
   ],
   "source": [
    "dfPlayerBoxUC3.isna().sum()[lambda x: x > 0].sort_values(ascending=True)"
   ]
  },
  {
   "cell_type": "markdown",
   "id": "2b4d216c-a6ba-41f7-a4c8-0c22af57056f",
   "metadata": {},
   "source": [
    "Drop last two_points_att row"
   ]
  },
  {
   "cell_type": "code",
   "execution_count": 57,
   "id": "db0f758a-e48f-4b2f-ae09-3e929704e9ef",
   "metadata": {},
   "outputs": [],
   "source": [
    "dfPlayerBoxUC4 = dfPlayerBoxUC3.dropna(subset=['two_points_att'])"
   ]
  },
  {
   "cell_type": "code",
   "execution_count": 58,
   "id": "3bf8c474-2eec-4a75-b964-a514e2fd99df",
   "metadata": {},
   "outputs": [
    {
     "data": {
      "text/plain": [
       "0.0     528698\n",
       "1.0       4225\n",
       "2.0         84\n",
       "3.0         11\n",
       "4.0          8\n",
       "5.0          2\n",
       "6.0          2\n",
       "9.0          1\n",
       "23.0         1\n",
       "14.0         1\n",
       "7.0          1\n",
       "Name: tech_fouls, dtype: int64"
      ]
     },
     "execution_count": 58,
     "metadata": {},
     "output_type": "execute_result"
    }
   ],
   "source": [
    "dfPlayerBoxUC4['tech_fouls'].value_counts()"
   ]
  },
  {
   "cell_type": "code",
   "execution_count": 59,
   "id": "4e1a334b-8ea5-468f-8fa0-263a3ecf7c7a",
   "metadata": {},
   "outputs": [
    {
     "data": {
      "text/plain": [
       "0.0    335647\n",
       "1.0       877\n",
       "2.0         1\n",
       "Name: flagrant_fouls, dtype: int64"
      ]
     },
     "execution_count": 59,
     "metadata": {},
     "output_type": "execute_result"
    }
   ],
   "source": [
    "dfPlayerBoxUC4['flagrant_fouls'].value_counts()"
   ]
  },
  {
   "cell_type": "code",
   "execution_count": 60,
   "id": "ca7e4093-dbfc-4248-ae26-05db3e64d28f",
   "metadata": {},
   "outputs": [
    {
     "data": {
      "text/plain": [
       "0.0    275309\n",
       "1.0     45795\n",
       "2.0     11903\n",
       "3.0      2758\n",
       "4.0       612\n",
       "5.0       147\n",
       "6.0        17\n",
       "7.0        11\n",
       "8.0         2\n",
       "Name: blocked_att, dtype: int64"
      ]
     },
     "execution_count": 60,
     "metadata": {},
     "output_type": "execute_result"
    }
   ],
   "source": [
    "dfPlayerBoxUC4['blocked_att'].value_counts()"
   ]
  },
  {
   "cell_type": "markdown",
   "id": "fa290d10-f514-48d3-bb2a-9bf141e43dec",
   "metadata": {},
   "source": [
    "I am going to drop the class column due to the fact that is it mostly nan values. For the 'flagrant_fouls', 'blocked_att', and 'tech_fouls' columns I will fill nan with 0 as this is the most common value for these stats."
   ]
  },
  {
   "cell_type": "code",
   "execution_count": 61,
   "id": "d6621bec-d44e-4a1f-89ca-c591a1a9eea3",
   "metadata": {},
   "outputs": [],
   "source": [
    "dfPlayerBoxUC5 = dfPlayerBoxUC4.drop(['class'], axis=1)"
   ]
  },
  {
   "cell_type": "code",
   "execution_count": 62,
   "id": "c5957a21-93fa-4e8a-ad86-4393f76646f4",
   "metadata": {},
   "outputs": [],
   "source": [
    "dfPlayerBoxUC5[['flagrant_fouls', 'blocked_att', 'tech_fouls']] = dfPlayerBoxUC5[['flagrant_fouls', 'blocked_att', 'tech_fouls']].fillna(0)\n"
   ]
  },
  {
   "cell_type": "code",
   "execution_count": 63,
   "id": "29fdcffa-1b2c-4397-94ba-42349b681dc7",
   "metadata": {},
   "outputs": [
    {
     "data": {
      "text/plain": [
       "height                331\n",
       "weight                331\n",
       "position              389\n",
       "minutes_int64       49712\n",
       "birthplace_state    56496\n",
       "dtype: int64"
      ]
     },
     "execution_count": 63,
     "metadata": {},
     "output_type": "execute_result"
    }
   ],
   "source": [
    "dfPlayerBoxUC5.isna().sum()[lambda x: x > 0].sort_values(ascending=True)"
   ]
  },
  {
   "cell_type": "markdown",
   "id": "b0f142d5-d45c-4e9d-afed-e8541ff61416",
   "metadata": {},
   "source": [
    "I am going to drop the rows that have missing, height, weight, or position data."
   ]
  },
  {
   "cell_type": "code",
   "execution_count": 64,
   "id": "dfef9150-9bf2-4da9-85ae-e192f366ef03",
   "metadata": {},
   "outputs": [],
   "source": [
    "dfPlayerBoxUC5.dropna(subset=['height', 'weight', 'position'], inplace=True)"
   ]
  },
  {
   "cell_type": "markdown",
   "id": "b1fe1143-8256-4efc-9e1e-c661b2064d5e",
   "metadata": {},
   "source": [
    "I am going to fill the missing birthplace_state with 'UKN' for unknown"
   ]
  },
  {
   "cell_type": "code",
   "execution_count": 65,
   "id": "9005013f-1cf8-4a4c-b9f1-0a9011ca8b5a",
   "metadata": {},
   "outputs": [],
   "source": [
    "dfPlayerBoxUC5['birthplace_state'] = dfPlayerBoxUC5['birthplace_state'].fillna('UKN')"
   ]
  },
  {
   "cell_type": "markdown",
   "id": "f756273f-0e0e-4cc9-b759-dfe5e697564b",
   "metadata": {},
   "source": [
    "I am going to fill the missing minutes_int64 data with the mean"
   ]
  },
  {
   "cell_type": "code",
   "execution_count": 66,
   "id": "33d4cb92-1c67-4242-9828-796758515a2d",
   "metadata": {},
   "outputs": [],
   "source": [
    "minutes_mean = dfPlayerBoxUC5['minutes_int64'].mean().round()\n",
    "dfPlayerBoxUC5['minutes_int64'] = dfPlayerBoxUC5['minutes_int64'].fillna(minutes_mean)"
   ]
  },
  {
   "cell_type": "code",
   "execution_count": 67,
   "id": "6e20e26c-db7e-4dc4-ae68-613dbb6ee2ce",
   "metadata": {},
   "outputs": [
    {
     "data": {
      "text/plain": [
       "Series([], dtype: int64)"
      ]
     },
     "execution_count": 67,
     "metadata": {},
     "output_type": "execute_result"
    }
   ],
   "source": [
    "dfPlayerBoxUC5.isna().sum()[lambda x: x > 0].sort_values(ascending=True)"
   ]
  },
  {
   "cell_type": "markdown",
   "id": "2517c5f1-7c7a-47cf-bd67-482d71c83173",
   "metadata": {},
   "source": [
    "There is no more missing data and we have narrowed down the columns to only the ones we want, so the dfPlayerBoxUC data is clean."
   ]
  },
  {
   "cell_type": "code",
   "execution_count": 68,
   "id": "1f53504c-5a38-4df6-b5d6-55b400340ecc",
   "metadata": {},
   "outputs": [],
   "source": [
    "dfPlayerBox = dfPlayerBoxUC5.copy()"
   ]
  },
  {
   "cell_type": "code",
   "execution_count": 69,
   "id": "7d3f8572-9ff4-4d98-a7ca-61034a6610ec",
   "metadata": {},
   "outputs": [],
   "source": [
    "dfPlayerBox.reset_index(drop=True, inplace=True)"
   ]
  },
  {
   "cell_type": "code",
   "execution_count": 70,
   "id": "6783ec26-2308-4576-b26e-7c1d41d1b56b",
   "metadata": {},
   "outputs": [],
   "source": [
    "dfPlayerBox.to_csv('player_box_scores_clean.csv', index=False)"
   ]
  },
  {
   "cell_type": "code",
   "execution_count": null,
   "id": "43270b00-27cb-4ddb-bbe8-b65c8ad183ec",
   "metadata": {},
   "outputs": [],
   "source": []
  }
 ],
 "metadata": {
  "kernelspec": {
   "display_name": "Python 3 (ipykernel)",
   "language": "python",
   "name": "python3"
  },
  "language_info": {
   "codemirror_mode": {
    "name": "ipython",
    "version": 3
   },
   "file_extension": ".py",
   "mimetype": "text/x-python",
   "name": "python",
   "nbconvert_exporter": "python",
   "pygments_lexer": "ipython3",
   "version": "3.10.9"
  }
 },
 "nbformat": 4,
 "nbformat_minor": 5
}
